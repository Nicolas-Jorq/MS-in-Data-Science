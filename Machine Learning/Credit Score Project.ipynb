{
 "cells": [
  {
   "cell_type": "code",
   "execution_count": 1,
   "metadata": {},
   "outputs": [],
   "source": [
    "import pandas as pd\n",
    "import numpy as np\n",
    "import seaborn as sns\n",
    "import matplotlib.pyplot as plt"
   ]
  },
  {
   "cell_type": "code",
   "execution_count": 2,
   "metadata": {},
   "outputs": [],
   "source": [
    "df = pd.read_csv('train.csv')"
   ]
  },
  {
   "cell_type": "code",
   "execution_count": 3,
   "metadata": {},
   "outputs": [
    {
     "data": {
      "text/html": [
       "<div>\n",
       "<style scoped>\n",
       "    .dataframe tbody tr th:only-of-type {\n",
       "        vertical-align: middle;\n",
       "    }\n",
       "\n",
       "    .dataframe tbody tr th {\n",
       "        vertical-align: top;\n",
       "    }\n",
       "\n",
       "    .dataframe thead th {\n",
       "        text-align: right;\n",
       "    }\n",
       "</style>\n",
       "<table border=\"1\" class=\"dataframe\">\n",
       "  <thead>\n",
       "    <tr style=\"text-align: right;\">\n",
       "      <th></th>\n",
       "      <th>ID</th>\n",
       "      <th>Customer_ID</th>\n",
       "      <th>Month</th>\n",
       "      <th>Name</th>\n",
       "      <th>Age</th>\n",
       "      <th>SSN</th>\n",
       "      <th>Occupation</th>\n",
       "      <th>Annual_Income</th>\n",
       "      <th>Monthly_Inhand_Salary</th>\n",
       "      <th>Num_Bank_Accounts</th>\n",
       "      <th>...</th>\n",
       "      <th>Credit_Mix</th>\n",
       "      <th>Outstanding_Debt</th>\n",
       "      <th>Credit_Utilization_Ratio</th>\n",
       "      <th>Credit_History_Age</th>\n",
       "      <th>Payment_of_Min_Amount</th>\n",
       "      <th>Total_EMI_per_month</th>\n",
       "      <th>Amount_invested_monthly</th>\n",
       "      <th>Payment_Behaviour</th>\n",
       "      <th>Monthly_Balance</th>\n",
       "      <th>Credit_Score</th>\n",
       "    </tr>\n",
       "  </thead>\n",
       "  <tbody>\n",
       "    <tr>\n",
       "      <th>0</th>\n",
       "      <td>5634</td>\n",
       "      <td>3392</td>\n",
       "      <td>1</td>\n",
       "      <td>Aaron Maashoh</td>\n",
       "      <td>23.0</td>\n",
       "      <td>821000265.0</td>\n",
       "      <td>Scientist</td>\n",
       "      <td>19114.12</td>\n",
       "      <td>1824.843333</td>\n",
       "      <td>3.0</td>\n",
       "      <td>...</td>\n",
       "      <td>Good</td>\n",
       "      <td>809.98</td>\n",
       "      <td>26.822620</td>\n",
       "      <td>265.0</td>\n",
       "      <td>No</td>\n",
       "      <td>49.574949</td>\n",
       "      <td>21.46538</td>\n",
       "      <td>High_spent_Small_value_payments</td>\n",
       "      <td>312.494089</td>\n",
       "      <td>Good</td>\n",
       "    </tr>\n",
       "    <tr>\n",
       "      <th>1</th>\n",
       "      <td>5635</td>\n",
       "      <td>3392</td>\n",
       "      <td>2</td>\n",
       "      <td>Aaron Maashoh</td>\n",
       "      <td>23.0</td>\n",
       "      <td>821000265.0</td>\n",
       "      <td>Scientist</td>\n",
       "      <td>19114.12</td>\n",
       "      <td>1824.843333</td>\n",
       "      <td>3.0</td>\n",
       "      <td>...</td>\n",
       "      <td>Good</td>\n",
       "      <td>809.98</td>\n",
       "      <td>31.944960</td>\n",
       "      <td>266.0</td>\n",
       "      <td>No</td>\n",
       "      <td>49.574949</td>\n",
       "      <td>21.46538</td>\n",
       "      <td>Low_spent_Large_value_payments</td>\n",
       "      <td>284.629162</td>\n",
       "      <td>Good</td>\n",
       "    </tr>\n",
       "    <tr>\n",
       "      <th>2</th>\n",
       "      <td>5636</td>\n",
       "      <td>3392</td>\n",
       "      <td>3</td>\n",
       "      <td>Aaron Maashoh</td>\n",
       "      <td>23.0</td>\n",
       "      <td>821000265.0</td>\n",
       "      <td>Scientist</td>\n",
       "      <td>19114.12</td>\n",
       "      <td>1824.843333</td>\n",
       "      <td>3.0</td>\n",
       "      <td>...</td>\n",
       "      <td>Good</td>\n",
       "      <td>809.98</td>\n",
       "      <td>28.609352</td>\n",
       "      <td>267.0</td>\n",
       "      <td>No</td>\n",
       "      <td>49.574949</td>\n",
       "      <td>21.46538</td>\n",
       "      <td>Low_spent_Medium_value_payments</td>\n",
       "      <td>331.209863</td>\n",
       "      <td>Good</td>\n",
       "    </tr>\n",
       "    <tr>\n",
       "      <th>3</th>\n",
       "      <td>5637</td>\n",
       "      <td>3392</td>\n",
       "      <td>4</td>\n",
       "      <td>Aaron Maashoh</td>\n",
       "      <td>23.0</td>\n",
       "      <td>821000265.0</td>\n",
       "      <td>Scientist</td>\n",
       "      <td>19114.12</td>\n",
       "      <td>1824.843333</td>\n",
       "      <td>3.0</td>\n",
       "      <td>...</td>\n",
       "      <td>Good</td>\n",
       "      <td>809.98</td>\n",
       "      <td>31.377862</td>\n",
       "      <td>268.0</td>\n",
       "      <td>No</td>\n",
       "      <td>49.574949</td>\n",
       "      <td>21.46538</td>\n",
       "      <td>Low_spent_Small_value_payments</td>\n",
       "      <td>223.451310</td>\n",
       "      <td>Good</td>\n",
       "    </tr>\n",
       "    <tr>\n",
       "      <th>4</th>\n",
       "      <td>5638</td>\n",
       "      <td>3392</td>\n",
       "      <td>5</td>\n",
       "      <td>Aaron Maashoh</td>\n",
       "      <td>23.0</td>\n",
       "      <td>821000265.0</td>\n",
       "      <td>Scientist</td>\n",
       "      <td>19114.12</td>\n",
       "      <td>1824.843333</td>\n",
       "      <td>3.0</td>\n",
       "      <td>...</td>\n",
       "      <td>Good</td>\n",
       "      <td>809.98</td>\n",
       "      <td>24.797347</td>\n",
       "      <td>269.0</td>\n",
       "      <td>No</td>\n",
       "      <td>49.574949</td>\n",
       "      <td>21.46538</td>\n",
       "      <td>High_spent_Medium_value_payments</td>\n",
       "      <td>341.489231</td>\n",
       "      <td>Good</td>\n",
       "    </tr>\n",
       "  </tbody>\n",
       "</table>\n",
       "<p>5 rows × 28 columns</p>\n",
       "</div>"
      ],
      "text/plain": [
       "     ID  Customer_ID  Month           Name   Age          SSN Occupation  \\\n",
       "0  5634         3392      1  Aaron Maashoh  23.0  821000265.0  Scientist   \n",
       "1  5635         3392      2  Aaron Maashoh  23.0  821000265.0  Scientist   \n",
       "2  5636         3392      3  Aaron Maashoh  23.0  821000265.0  Scientist   \n",
       "3  5637         3392      4  Aaron Maashoh  23.0  821000265.0  Scientist   \n",
       "4  5638         3392      5  Aaron Maashoh  23.0  821000265.0  Scientist   \n",
       "\n",
       "   Annual_Income  Monthly_Inhand_Salary  Num_Bank_Accounts  ...  Credit_Mix  \\\n",
       "0       19114.12            1824.843333                3.0  ...        Good   \n",
       "1       19114.12            1824.843333                3.0  ...        Good   \n",
       "2       19114.12            1824.843333                3.0  ...        Good   \n",
       "3       19114.12            1824.843333                3.0  ...        Good   \n",
       "4       19114.12            1824.843333                3.0  ...        Good   \n",
       "\n",
       "   Outstanding_Debt  Credit_Utilization_Ratio Credit_History_Age  \\\n",
       "0            809.98                 26.822620              265.0   \n",
       "1            809.98                 31.944960              266.0   \n",
       "2            809.98                 28.609352              267.0   \n",
       "3            809.98                 31.377862              268.0   \n",
       "4            809.98                 24.797347              269.0   \n",
       "\n",
       "   Payment_of_Min_Amount  Total_EMI_per_month  Amount_invested_monthly  \\\n",
       "0                     No            49.574949                 21.46538   \n",
       "1                     No            49.574949                 21.46538   \n",
       "2                     No            49.574949                 21.46538   \n",
       "3                     No            49.574949                 21.46538   \n",
       "4                     No            49.574949                 21.46538   \n",
       "\n",
       "                  Payment_Behaviour Monthly_Balance  Credit_Score  \n",
       "0   High_spent_Small_value_payments      312.494089          Good  \n",
       "1    Low_spent_Large_value_payments      284.629162          Good  \n",
       "2   Low_spent_Medium_value_payments      331.209863          Good  \n",
       "3    Low_spent_Small_value_payments      223.451310          Good  \n",
       "4  High_spent_Medium_value_payments      341.489231          Good  \n",
       "\n",
       "[5 rows x 28 columns]"
      ]
     },
     "execution_count": 3,
     "metadata": {},
     "output_type": "execute_result"
    }
   ],
   "source": [
    "df.head()"
   ]
  },
  {
   "cell_type": "markdown",
   "metadata": {},
   "source": [
    "## Description of Dataset"
   ]
  },
  {
   "cell_type": "markdown",
   "metadata": {},
   "source": [
    "**Finding how many unique values the categorical columns have:**"
   ]
  },
  {
   "cell_type": "code",
   "execution_count": 4,
   "metadata": {},
   "outputs": [
    {
     "data": {
      "text/html": [
       "<div>\n",
       "<style scoped>\n",
       "    .dataframe tbody tr th:only-of-type {\n",
       "        vertical-align: middle;\n",
       "    }\n",
       "\n",
       "    .dataframe tbody tr th {\n",
       "        vertical-align: top;\n",
       "    }\n",
       "\n",
       "    .dataframe thead th {\n",
       "        text-align: right;\n",
       "    }\n",
       "</style>\n",
       "<table border=\"1\" class=\"dataframe\">\n",
       "  <thead>\n",
       "    <tr style=\"text-align: right;\">\n",
       "      <th></th>\n",
       "      <th>Column</th>\n",
       "      <th>Num_Unique_Values</th>\n",
       "    </tr>\n",
       "  </thead>\n",
       "  <tbody>\n",
       "    <tr>\n",
       "      <th>0</th>\n",
       "      <td>Name</td>\n",
       "      <td>10128</td>\n",
       "    </tr>\n",
       "    <tr>\n",
       "      <th>1</th>\n",
       "      <td>Occupation</td>\n",
       "      <td>15</td>\n",
       "    </tr>\n",
       "    <tr>\n",
       "      <th>2</th>\n",
       "      <td>Type_of_Loan</td>\n",
       "      <td>6261</td>\n",
       "    </tr>\n",
       "    <tr>\n",
       "      <th>3</th>\n",
       "      <td>Credit_Mix</td>\n",
       "      <td>3</td>\n",
       "    </tr>\n",
       "    <tr>\n",
       "      <th>4</th>\n",
       "      <td>Payment_of_Min_Amount</td>\n",
       "      <td>3</td>\n",
       "    </tr>\n",
       "  </tbody>\n",
       "</table>\n",
       "</div>"
      ],
      "text/plain": [
       "                  Column  Num_Unique_Values\n",
       "0                   Name              10128\n",
       "1             Occupation                 15\n",
       "2           Type_of_Loan               6261\n",
       "3             Credit_Mix                  3\n",
       "4  Payment_of_Min_Amount                  3"
      ]
     },
     "execution_count": 4,
     "metadata": {},
     "output_type": "execute_result"
    }
   ],
   "source": [
    "object_cols = df.select_dtypes(include='object').columns.tolist()\n",
    "\n",
    "unique_value_counts = [(col, df[col].nunique()) for col in object_cols]\n",
    "unique_value_counts_df = pd.DataFrame(unique_value_counts, columns=['Column', 'Num_Unique_Values'])\n",
    "\n",
    "unique_value_counts_df.head()"
   ]
  },
  {
   "cell_type": "markdown",
   "metadata": {},
   "source": [
    "I can implement Feature Engineering and add a column that showcases how many months a client has had an account for. "
   ]
  },
  {
   "cell_type": "code",
   "execution_count": 5,
   "metadata": {},
   "outputs": [
    {
     "name": "stdout",
     "output_type": "stream",
     "text": [
      "There are 12500 unique customers in the dataset.\n"
     ]
    }
   ],
   "source": [
    "# Number of Unique Customers\n",
    "num_unique_customers = df.Customer_ID.nunique()\n",
    "print(\"There are\", num_unique_customers, \"unique customers in the dataset.\")"
   ]
  },
  {
   "cell_type": "markdown",
   "metadata": {},
   "source": [
    "**There are many repeating customer_ID, which can skew the data if a customer appears too often. Therefore, here we will how many credit score have changed:**"
   ]
  },
  {
   "cell_type": "code",
   "execution_count": 6,
   "metadata": {},
   "outputs": [
    {
     "name": "stdout",
     "output_type": "stream",
     "text": [
      "Number of customers whose credit score has changed: 15294\n"
     ]
    }
   ],
   "source": [
    "# Sort the dataframe by customer ID and month\n",
    "df2 = df.sort_values(['Customer_ID', 'Month'])\n",
    "\n",
    "# Create a new column called 'Previous_Credit_Score' that contains the credit score from the previous month\n",
    "df2['Previous_Credit_Score'] = df2.groupby('Customer_ID')['Credit_Score'].shift(1)\n",
    "\n",
    "# Drop rows where there is no previous credit score (i.e., the first month for each customer)\n",
    "df2 = df2.dropna(subset=['Previous_Credit_Score'])\n",
    "\n",
    "# Calculate the number of customers whose credit score has changed\n",
    "num_customers_changed = sum(df2['Credit_Score'] != df2['Previous_Credit_Score'])\n",
    "\n",
    "# Print the number of customers whose credit score has changed\n",
    "print('Number of customers whose credit score has changed:', num_customers_changed)\n",
    "\n",
    "# Create a new dataframe that contains only the rows where the credit score has changed\n",
    "df_changed = df2[df2['Credit_Score'] != df2['Previous_Credit_Score']]"
   ]
  },
  {
   "cell_type": "markdown",
   "metadata": {},
   "source": [
    "**Now we will explore how often a customer has had their credit score change, so that we can ensure their are no outliers:**"
   ]
  },
  {
   "cell_type": "code",
   "execution_count": 7,
   "metadata": {},
   "outputs": [],
   "source": [
    "# Calculate the number of times each customer's credit score has changed\n",
    "change_counts = df.groupby('Customer_ID')['Credit_Score'].apply(lambda x: (x != x.shift()).sum()).reset_index(name='Change_Count')\n",
    "\n",
    "# Filter out customers whose credit score has changed less than or equal to 2 times\n",
    "change_counts = change_counts[change_counts['Change_Count'] > 2]\n",
    "\n",
    "# Print the resulting dataframe\n",
    "# change_counts.sort_values(['Change_Count'])"
   ]
  },
  {
   "cell_type": "markdown",
   "metadata": {},
   "source": [
    "- We see that the number of credit score changes per customer is at most 6, and more than 4305 customers have changed their credit score more than 2 times."
   ]
  },
  {
   "cell_type": "markdown",
   "metadata": {},
   "source": [
    "**Finding the min/max of each column** - Want to compare numerical values to the dependent value - Credit Score, and see how influential they are: "
   ]
  },
  {
   "cell_type": "code",
   "execution_count": 8,
   "metadata": {},
   "outputs": [],
   "source": [
    "# Select only the numerical columns\n",
    "numerical_cols = df2.select_dtypes(include='number')\n",
    "\n",
    "# Get the maximum and minimum value of each column\n",
    "max_values = numerical_cols.max().to_frame('Max')\n",
    "min_values = numerical_cols.min().to_frame('Min')\n",
    "\n",
    "# Combine the results into a single DataFrame\n",
    "result_df = pd.concat([min_values, max_values], axis=1)\n",
    "\n",
    "# Rename the index to 'Column'\n",
    "result_df.index.name = 'Column'\n",
    "\n",
    "# Display the result\n",
    "# result_df"
   ]
  },
  {
   "cell_type": "markdown",
   "metadata": {},
   "source": [
    "### Data Visualization:"
   ]
  },
  {
   "cell_type": "code",
   "execution_count": 9,
   "metadata": {},
   "outputs": [
    {
     "data": {
      "image/png": "[encoded data removed]",
      "text/plain": [
       "<Figure size 1080x1080 with 8 Axes>"
      ]
     },
     "metadata": {
      "needs_background": "light"
     },
     "output_type": "display_data"
    }
   ],
   "source": [
    "# Define the age bins and labels\n",
    "age_bins = [0, 20, 35, 50, 100]\n",
    "age_labels = ['<20', '20-35', '35-50', '>50']\n",
    "\n",
    "# Define the bins and labels for each column\n",
    "income_bins = [0, 25000, 50000, 75000, 100000,  10000000]\n",
    "income_labels = ['0k-25k', '25k-50k', '50k-75k', '75k-100k','>100k']\n",
    "\n",
    "balance_bins = [0, 250, 500, 750, 1000, 1000000]\n",
    "balance_labels = ['0-250', '250-500', '500-750', '750-1000', '>1000']\n",
    "\n",
    "debt_bins = [0, 1000, 2000, 3000, 4000, 5000]\n",
    "debt_labels = ['0-1k', '1k-2k', '2k-3k', '3k-4k', '4k-5k']\n",
    "\n",
    "inquiries_bins = [0, 3, 6, 9, 12, 1000]\n",
    "inquiries_labels = ['0-3', '3-6', '6-9', '9-12', '>12']\n",
    "\n",
    "bank_acct_bins = [0, 3, 6, 9, 12]\n",
    "bank_acct_labels = ['0-3', '3-6', '6-9', '9-12']\n",
    "\n",
    "loan_bins = [0, 2, 4, 6, 8, 10]\n",
    "loan_labels = ['0-2', '2-4', '4-6', '6-8', '8-10']\n",
    "\n",
    "delayed_bins = [0, 5, 10, 15, 20, 30]\n",
    "delayed_labels = ['0-5', '5-10', '10-15', '15-20', '>20']\n",
    "\n",
    "# Create the age category column\n",
    "df2['Age_Category'] = pd.cut(df['Age'], bins=age_bins, labels=age_labels)\n",
    "df2['Income_Category'] = pd.cut(df['Annual_Income'], bins=income_bins, labels=income_labels)\n",
    "df2['Balance_Category'] = pd.cut(df['Monthly_Balance'], bins=balance_bins, labels=balance_labels)\n",
    "df2['Debt_Category'] = pd.cut(df['Outstanding_Debt'], bins=debt_bins, labels=debt_labels)\n",
    "df2['Inquiries_Category'] = pd.cut(df['Num_Credit_Inquiries'], bins=inquiries_bins, labels=inquiries_labels)\n",
    "df2['Banks_Category'] = pd.cut(df['Num_Bank_Accounts'], bins=bank_acct_bins, labels=bank_acct_labels)\n",
    "df2['Loan_Category'] = pd.cut(df['Num_of_Loan'], bins=loan_bins, labels=loan_labels)\n",
    "df2['Delayed_Category'] = pd.cut(df['Num_of_Delayed_Payment'], bins=delayed_bins, labels=delayed_labels)\n",
    "\n",
    "# Create subplots for the 7 different plots\n",
    "fig, axes = plt.subplots(nrows=3, ncols=3, figsize=(15, 15))\n",
    "\n",
    "# Create the count plots for each column and subcategory, and add them to the appropriate subplot\n",
    "sns.countplot(x='Age_Category', hue='Credit_Score', data=df2, ax=axes[0, 0], order=age_labels)\n",
    "sns.countplot(x='Income_Category', hue='Credit_Score', data=df2, ax=axes[0, 1], order=income_labels)\n",
    "sns.countplot(x='Balance_Category', hue='Credit_Score', data=df2, ax=axes[0, 2], order=balance_labels)\n",
    "sns.countplot(x='Debt_Category', hue='Credit_Score', data=df2, ax=axes[1, 0], order=debt_labels)\n",
    "sns.countplot(x='Inquiries_Category', hue='Credit_Score', data=df2, ax=axes[1, 1], order=inquiries_labels)\n",
    "sns.countplot(x='Banks_Category', hue='Credit_Score', data=df2, ax=axes[1, 2], order=bank_acct_labels)\n",
    "sns.countplot(x='Loan_Category', hue='Credit_Score', data=df2, ax=axes[2, 0], order=loan_labels)\n",
    "sns.countplot(x='Delayed_Category', hue='Credit_Score', data=df2, ax=axes[2, 1], order=delayed_labels)\n",
    "\n",
    "# Remove the last subplot\n",
    "fig.delaxes(axes[2, 2])\n",
    "\n",
    "# Add titles and axis labels to each subplot\n",
    "axes[0, 0].set_title('Credit Score by Age Category')\n",
    "axes[0, 0].set_xlabel('Age Category')\n",
    "axes[0, 0].set_ylabel('Count')\n",
    "axes[0, 0].legend()\n",
    "\n",
    "axes[0, 1].set_title('Credit Score by Annual Income')\n",
    "axes[0, 1].set_xlabel('Annual Income')\n",
    "axes[0, 1].set_ylabel('Count')\n",
    "axes[0, 1].legend()\n",
    "\n",
    "axes[0, 2].set_title('Credit Score by Monthly Balance')\n",
    "axes[0, 2].set_xlabel('Monthly Balance')\n",
    "axes[0, 2].set_ylabel('Count')\n",
    "axes[0, 2].legend()\n",
    "\n",
    "axes[1, 0].set_title('Credit Score by Outstanding Debt')\n",
    "axes[1, 0].set_xlabel('Outstanding Debt')\n",
    "axes[1, 0].set_ylabel('Count')\n",
    "axes[1, 0].legend()\n",
    "\n",
    "axes[1, 1].set_title('Credit Score by Number of Credit Inquiries')\n",
    "axes[1, 1].set_xlabel('Number of Credit Inquiries')\n",
    "axes[1, 1].set_ylabel('Count')\n",
    "axes[1, 1].legend()\n",
    "\n",
    "axes[1, 2].set_title('Credit Score by Number of Bank Accounts')\n",
    "axes[1, 2].set_xlabel('Number of Bank Accounts')\n",
    "axes[1, 2].set_ylabel('Count')\n",
    "axes[1, 2].legend()\n",
    "\n",
    "axes[2, 0].set_title('Credit Score by Number of Loans')\n",
    "axes[2, 0].set_xlabel('Number of Loans')\n",
    "axes[2, 0].set_ylabel('Count')\n",
    "axes[2, 0].legend()\n",
    "\n",
    "axes[2, 1].set_title('Credit Score by Number of Delayed Payments')\n",
    "axes[2, 1].set_xlabel('Number of Delayed Payments')\n",
    "axes[2, 1].set_ylabel('Count')\n",
    "axes[2, 1].legend()\n",
    "\n",
    "# Add a title to the overall plot\n",
    "fig.suptitle('Credit Score by Various Categories', fontsize=20)\n",
    "\n",
    "# Adjust the spacing between the subplots\n",
    "fig.tight_layout(rect=[0, 0, 1, 0.95])\n",
    "\n",
    "# Show the plot\n",
    "plt.show()\n"
   ]
  },
  {
   "cell_type": "code",
   "execution_count": 10,
   "metadata": {},
   "outputs": [
    {
     "data": {
      "text/html": [
       "<div>\n",
       "<style scoped>\n",
       "    .dataframe tbody tr th:only-of-type {\n",
       "        vertical-align: middle;\n",
       "    }\n",
       "\n",
       "    .dataframe tbody tr th {\n",
       "        vertical-align: top;\n",
       "    }\n",
       "\n",
       "    .dataframe thead th {\n",
       "        text-align: right;\n",
       "    }\n",
       "</style>\n",
       "<table border=\"1\" class=\"dataframe\">\n",
       "  <thead>\n",
       "    <tr style=\"text-align: right;\">\n",
       "      <th></th>\n",
       "      <th>ID</th>\n",
       "      <th>Customer_ID</th>\n",
       "      <th>Month</th>\n",
       "      <th>Name</th>\n",
       "      <th>Age</th>\n",
       "      <th>SSN</th>\n",
       "      <th>Occupation</th>\n",
       "      <th>Annual_Income</th>\n",
       "      <th>Monthly_Inhand_Salary</th>\n",
       "      <th>Num_Bank_Accounts</th>\n",
       "      <th>...</th>\n",
       "      <th>Credit_Mix</th>\n",
       "      <th>Outstanding_Debt</th>\n",
       "      <th>Credit_Utilization_Ratio</th>\n",
       "      <th>Credit_History_Age</th>\n",
       "      <th>Payment_of_Min_Amount</th>\n",
       "      <th>Total_EMI_per_month</th>\n",
       "      <th>Amount_invested_monthly</th>\n",
       "      <th>Payment_Behaviour</th>\n",
       "      <th>Monthly_Balance</th>\n",
       "      <th>Credit_Score</th>\n",
       "    </tr>\n",
       "  </thead>\n",
       "  <tbody>\n",
       "    <tr>\n",
       "      <th>0</th>\n",
       "      <td>5634</td>\n",
       "      <td>3392</td>\n",
       "      <td>1</td>\n",
       "      <td>Aaron Maashoh</td>\n",
       "      <td>23.0</td>\n",
       "      <td>821000265.0</td>\n",
       "      <td>Scientist</td>\n",
       "      <td>19114.12</td>\n",
       "      <td>1824.843333</td>\n",
       "      <td>3.0</td>\n",
       "      <td>...</td>\n",
       "      <td>Good</td>\n",
       "      <td>809.98</td>\n",
       "      <td>26.822620</td>\n",
       "      <td>265.0</td>\n",
       "      <td>No</td>\n",
       "      <td>49.574949</td>\n",
       "      <td>21.46538</td>\n",
       "      <td>High_spent_Small_value_payments</td>\n",
       "      <td>312.494089</td>\n",
       "      <td>Good</td>\n",
       "    </tr>\n",
       "    <tr>\n",
       "      <th>1</th>\n",
       "      <td>5635</td>\n",
       "      <td>3392</td>\n",
       "      <td>2</td>\n",
       "      <td>Aaron Maashoh</td>\n",
       "      <td>23.0</td>\n",
       "      <td>821000265.0</td>\n",
       "      <td>Scientist</td>\n",
       "      <td>19114.12</td>\n",
       "      <td>1824.843333</td>\n",
       "      <td>3.0</td>\n",
       "      <td>...</td>\n",
       "      <td>Good</td>\n",
       "      <td>809.98</td>\n",
       "      <td>31.944960</td>\n",
       "      <td>266.0</td>\n",
       "      <td>No</td>\n",
       "      <td>49.574949</td>\n",
       "      <td>21.46538</td>\n",
       "      <td>Low_spent_Large_value_payments</td>\n",
       "      <td>284.629162</td>\n",
       "      <td>Good</td>\n",
       "    </tr>\n",
       "    <tr>\n",
       "      <th>2</th>\n",
       "      <td>5636</td>\n",
       "      <td>3392</td>\n",
       "      <td>3</td>\n",
       "      <td>Aaron Maashoh</td>\n",
       "      <td>23.0</td>\n",
       "      <td>821000265.0</td>\n",
       "      <td>Scientist</td>\n",
       "      <td>19114.12</td>\n",
       "      <td>1824.843333</td>\n",
       "      <td>3.0</td>\n",
       "      <td>...</td>\n",
       "      <td>Good</td>\n",
       "      <td>809.98</td>\n",
       "      <td>28.609352</td>\n",
       "      <td>267.0</td>\n",
       "      <td>No</td>\n",
       "      <td>49.574949</td>\n",
       "      <td>21.46538</td>\n",
       "      <td>Low_spent_Medium_value_payments</td>\n",
       "      <td>331.209863</td>\n",
       "      <td>Good</td>\n",
       "    </tr>\n",
       "    <tr>\n",
       "      <th>3</th>\n",
       "      <td>5637</td>\n",
       "      <td>3392</td>\n",
       "      <td>4</td>\n",
       "      <td>Aaron Maashoh</td>\n",
       "      <td>23.0</td>\n",
       "      <td>821000265.0</td>\n",
       "      <td>Scientist</td>\n",
       "      <td>19114.12</td>\n",
       "      <td>1824.843333</td>\n",
       "      <td>3.0</td>\n",
       "      <td>...</td>\n",
       "      <td>Good</td>\n",
       "      <td>809.98</td>\n",
       "      <td>31.377862</td>\n",
       "      <td>268.0</td>\n",
       "      <td>No</td>\n",
       "      <td>49.574949</td>\n",
       "      <td>21.46538</td>\n",
       "      <td>Low_spent_Small_value_payments</td>\n",
       "      <td>223.451310</td>\n",
       "      <td>Good</td>\n",
       "    </tr>\n",
       "    <tr>\n",
       "      <th>4</th>\n",
       "      <td>5638</td>\n",
       "      <td>3392</td>\n",
       "      <td>5</td>\n",
       "      <td>Aaron Maashoh</td>\n",
       "      <td>23.0</td>\n",
       "      <td>821000265.0</td>\n",
       "      <td>Scientist</td>\n",
       "      <td>19114.12</td>\n",
       "      <td>1824.843333</td>\n",
       "      <td>3.0</td>\n",
       "      <td>...</td>\n",
       "      <td>Good</td>\n",
       "      <td>809.98</td>\n",
       "      <td>24.797347</td>\n",
       "      <td>269.0</td>\n",
       "      <td>No</td>\n",
       "      <td>49.574949</td>\n",
       "      <td>21.46538</td>\n",
       "      <td>High_spent_Medium_value_payments</td>\n",
       "      <td>341.489231</td>\n",
       "      <td>Good</td>\n",
       "    </tr>\n",
       "  </tbody>\n",
       "</table>\n",
       "<p>5 rows × 28 columns</p>\n",
       "</div>"
      ],
      "text/plain": [
       "     ID  Customer_ID  Month           Name   Age          SSN Occupation  \\\n",
       "0  5634         3392      1  Aaron Maashoh  23.0  821000265.0  Scientist   \n",
       "1  5635         3392      2  Aaron Maashoh  23.0  821000265.0  Scientist   \n",
       "2  5636         3392      3  Aaron Maashoh  23.0  821000265.0  Scientist   \n",
       "3  5637         3392      4  Aaron Maashoh  23.0  821000265.0  Scientist   \n",
       "4  5638         3392      5  Aaron Maashoh  23.0  821000265.0  Scientist   \n",
       "\n",
       "   Annual_Income  Monthly_Inhand_Salary  Num_Bank_Accounts  ...  Credit_Mix  \\\n",
       "0       19114.12            1824.843333                3.0  ...        Good   \n",
       "1       19114.12            1824.843333                3.0  ...        Good   \n",
       "2       19114.12            1824.843333                3.0  ...        Good   \n",
       "3       19114.12            1824.843333                3.0  ...        Good   \n",
       "4       19114.12            1824.843333                3.0  ...        Good   \n",
       "\n",
       "   Outstanding_Debt  Credit_Utilization_Ratio Credit_History_Age  \\\n",
       "0            809.98                 26.822620              265.0   \n",
       "1            809.98                 31.944960              266.0   \n",
       "2            809.98                 28.609352              267.0   \n",
       "3            809.98                 31.377862              268.0   \n",
       "4            809.98                 24.797347              269.0   \n",
       "\n",
       "   Payment_of_Min_Amount  Total_EMI_per_month  Amount_invested_monthly  \\\n",
       "0                     No            49.574949                 21.46538   \n",
       "1                     No            49.574949                 21.46538   \n",
       "2                     No            49.574949                 21.46538   \n",
       "3                     No            49.574949                 21.46538   \n",
       "4                     No            49.574949                 21.46538   \n",
       "\n",
       "                  Payment_Behaviour Monthly_Balance  Credit_Score  \n",
       "0   High_spent_Small_value_payments      312.494089          Good  \n",
       "1    Low_spent_Large_value_payments      284.629162          Good  \n",
       "2   Low_spent_Medium_value_payments      331.209863          Good  \n",
       "3    Low_spent_Small_value_payments      223.451310          Good  \n",
       "4  High_spent_Medium_value_payments      341.489231          Good  \n",
       "\n",
       "[5 rows x 28 columns]"
      ]
     },
     "execution_count": 10,
     "metadata": {},
     "output_type": "execute_result"
    }
   ],
   "source": [
    "df.head()"
   ]
  },
  {
   "cell_type": "markdown",
   "metadata": {},
   "source": [
    "## Machine Learning Algorithms - Classification"
   ]
  },
  {
   "cell_type": "code",
   "execution_count": 11,
   "metadata": {},
   "outputs": [],
   "source": [
    "from sklearn.model_selection import train_test_split\n",
    "from sklearn.preprocessing import LabelEncoder\n",
    "from sklearn.linear_model import LogisticRegression\n",
    "from sklearn.tree import DecisionTreeClassifier\n",
    "from sklearn.ensemble import RandomForestClassifier\n",
    "from sklearn.metrics import accuracy_score, classification_report\n",
    "from sklearn.svm import SVC\n",
    "from sklearn.ensemble import GradientBoostingClassifier"
   ]
  },
  {
   "cell_type": "markdown",
   "metadata": {},
   "source": [
    "### Preprocessing"
   ]
  },
  {
   "cell_type": "code",
   "execution_count": 12,
   "metadata": {},
   "outputs": [],
   "source": [
    "# Preprocessing\n",
    "le = LabelEncoder()\n",
    "\n",
    "# Encoding categorical variables\n",
    "df['Name'] = le.fit_transform(df['Name'])\n",
    "df['Occupation'] = le.fit_transform(df['Occupation'])\n",
    "df['Type_of_Loan'] = le.fit_transform(df['Type_of_Loan'])\n",
    "df['Credit_Mix'] = le.fit_transform(df['Credit_Mix'])\n",
    "df['Payment_of_Min_Amount'] = le.fit_transform(df['Payment_of_Min_Amount'])\n",
    "df['Payment_Behaviour'] = le.fit_transform(df['Payment_Behaviour'])"
   ]
  },
  {
   "cell_type": "code",
   "execution_count": 13,
   "metadata": {},
   "outputs": [],
   "source": [
    "# Splitting the dataset into train and test sets\n",
    "X = df.drop(['ID', 'Customer_ID', 'Credit_Score'], axis=1)\n",
    "y = df['Credit_Score']\n",
    "\n",
    "X_train, X_test, y_train, y_test = train_test_split(X, y, test_size=0.3, random_state=42)"
   ]
  },
  {
   "cell_type": "markdown",
   "metadata": {},
   "source": [
    "### Decision Tree Classifier\n",
    "\n",
    "A decision tree classifier is a tree-like model where each internal node represents a decision based on a certain feature, and each leaf node represents a class label. The decision tree algorithm splits the data into sub-groups based on the most significant features, with the goal of creating homogeneous groups that have the same class label. This process continues recursively until a stopping criterion is met. Once the decision tree is built, it can be used to classify new data by traversing the tree and making decisions based on the feature values."
   ]
  },
  {
   "cell_type": "code",
   "execution_count": 14,
   "metadata": {},
   "outputs": [
    {
     "name": "stdout",
     "output_type": "stream",
     "text": [
      "Decision Tree Accuracy:  0.7427\n"
     ]
    }
   ],
   "source": [
    "# Decision Tree Classifier\n",
    "dt = DecisionTreeClassifier()\n",
    "dt.fit(X_train, y_train)\n",
    "y_pred_dt = dt.predict(X_test)\n",
    "\n",
    "# Evaluation\n",
    "print(\"Decision Tree Accuracy: \", accuracy_score(y_test, y_pred_dt))"
   ]
  },
  {
   "cell_type": "markdown",
   "metadata": {},
   "source": [
    "### Random Forest Classifier"
   ]
  },
  {
   "cell_type": "markdown",
   "metadata": {},
   "source": [
    "a random forest classifier is an ensemble learning method that constructs multiple decision trees and combines them to make a final prediction. The algorithm creates multiple decision trees, each with a random subset of the features and a random subset of the training data. These trees are then combined through a voting mechanism to make the final prediction. The main idea behind the random forest algorithm is that the combined decision of multiple trees will be more accurate than the decision of any individual tree."
   ]
  },
  {
   "cell_type": "code",
   "execution_count": 15,
   "metadata": {},
   "outputs": [
    {
     "name": "stdout",
     "output_type": "stream",
     "text": [
      "Random Forest Accuracy:  0.8342333333333334\n"
     ]
    }
   ],
   "source": [
    "# Random Forest Classifier\n",
    "rf = RandomForestClassifier()\n",
    "rf.fit(X_train, y_train)\n",
    "y_pred_rf = rf.predict(X_test)\n",
    "\n",
    "# Evaluation\n",
    "print(\"Random Forest Accuracy: \", accuracy_score(y_test, y_pred_rf))"
   ]
  },
  {
   "cell_type": "markdown",
   "metadata": {},
   "source": [
    "### Classification Report - Decision Trees vs Random Forest"
   ]
  },
  {
   "cell_type": "code",
   "execution_count": 16,
   "metadata": {},
   "outputs": [
    {
     "name": "stdout",
     "output_type": "stream",
     "text": [
      "Decision Tree Classification Report: \n",
      "               precision    recall  f1-score   support\n",
      "\n",
      "        Good       0.70      0.68      0.69      5322\n",
      "        Poor       0.73      0.73      0.73      8805\n",
      "    Standard       0.76      0.77      0.77     15873\n",
      "\n",
      "    accuracy                           0.74     30000\n",
      "   macro avg       0.73      0.73      0.73     30000\n",
      "weighted avg       0.74      0.74      0.74     30000\n",
      "\n",
      "Random Forest Classification Report: \n",
      "               precision    recall  f1-score   support\n",
      "\n",
      "        Good       0.80      0.81      0.81      5322\n",
      "        Poor       0.81      0.86      0.84      8805\n",
      "    Standard       0.86      0.83      0.84     15873\n",
      "\n",
      "    accuracy                           0.83     30000\n",
      "   macro avg       0.83      0.83      0.83     30000\n",
      "weighted avg       0.83      0.83      0.83     30000\n",
      "\n"
     ]
    }
   ],
   "source": [
    "print(\"Decision Tree Classification Report: \\n\", classification_report(y_test, y_pred_dt))\n",
    "print(\"Random Forest Classification Report: \\n\", classification_report(y_test, y_pred_rf))"
   ]
  },
  {
   "cell_type": "markdown",
   "metadata": {},
   "source": [
    "**Precision:** Measures the proportion of correctly predicted positive instances out of all instances predicted as positive.\n",
    "\n",
    "**Recall:** It is the ratio of true positive predictions to the sum of true positive and false negative predictions. It measures the proportion of correctly predicted positive instances out of all actual positive instances.\n",
    "\n",
    "**F1-score:** -The F1-score balances both precision and recall, giving equal importance to both. The F1-score ranges from 0 (worst) to 1 (best).\n",
    "\n",
    "*For each algorithm:*\n",
    "\n",
    "**Decision Tree:**\n",
    "- Good: Precision is 0.70, recall is 0.68, F1-score is 0.69, and support is 5322.\n",
    "- Poor: Precision is 0.73, recall is 0.73, F1-score is 0.73, and support is 8805.\n",
    "- Standard: Precision is 0.77, recall is 0.77, F1-score is 0.77, and support is 15873.\n",
    "\n",
    "**Random Forest:**\n",
    "- Good: Precision is 0.80, recall is 0.80, F1-score is 0.80, and support is 5322.\n",
    "- Poor: Precision is 0.81, recall is 0.86, F1-score is 0.83, and support is 8805.\n",
    "- Standard: Precision is 0.85, recall is 0.83, F1-score is 0.84, and support is 15873.\n",
    "\n",
    "Random forests have several advantages over decision trees. They are less prone to overfitting and can handle a larger number of features. Additionally, they provide a measure of feature importance, which can be useful in feature selection. However, they can be slower to train than decision trees due to the creation of multiple trees.\n",
    "\n",
    "***As mentioned above, these results are expected. Therefore below I will explore more complex algorithms:***"
   ]
  },
  {
   "cell_type": "markdown",
   "metadata": {},
   "source": [
    "### Gradient Boosting Classifier\n",
    "\n",
    "Gradient Boosting Classifier is an ensemble learning method that works by combining multiple weak learners (decision trees) to create a strong learner. It builds the model in a stage-wise fashion, where each subsequent model focuses on the errors made by the previous models. Gradient Boosting Classifier can perform well in cases where the data has high variance or noise, as it can reduce overfitting by combining multiple weak models."
   ]
  },
  {
   "cell_type": "code",
   "execution_count": 17,
   "metadata": {},
   "outputs": [
    {
     "name": "stdout",
     "output_type": "stream",
     "text": [
      "Gradient Boosting Classifier Accuracy:  0.713\n",
      "Gradient Boosting Classifier Classification Report: \n",
      "               precision    recall  f1-score   support\n",
      "\n",
      "        Good       0.59      0.70      0.64      5322\n",
      "        Poor       0.74      0.65      0.69      8805\n",
      "    Standard       0.75      0.75      0.75     15873\n",
      "\n",
      "    accuracy                           0.71     30000\n",
      "   macro avg       0.69      0.70      0.69     30000\n",
      "weighted avg       0.72      0.71      0.71     30000\n",
      "\n"
     ]
    }
   ],
   "source": [
    "# Gradient Boosting Classifier\n",
    "gbc = GradientBoostingClassifier()\n",
    "gbc.fit(X_train, y_train)\n",
    "y_pred_gbc = gbc.predict(X_test)\n",
    "\n",
    "# Evaluation\n",
    "print(\"Gradient Boosting Classifier Accuracy: \", accuracy_score(y_test, y_pred_gbc))\n",
    "print(\"Gradient Boosting Classifier Classification Report: \\n\", classification_report(y_test, y_pred_gbc))"
   ]
  },
  {
   "cell_type": "markdown",
   "metadata": {},
   "source": [
    "Compared to Random Forest, Gradient Boosting Classifier builds trees sequentially, focusing on the errors made by previous trees, while Random Forest builds multiple trees independently and combines their results through averaging or majority voting. Gradient Boosting can sometimes outperform Random Forest when the data has high variance, but it might be more prone to overfitting if not tuned properly."
   ]
  },
  {
   "cell_type": "markdown",
   "metadata": {},
   "source": [
    "## Comparison of Algorithms:"
   ]
  },
  {
   "cell_type": "code",
   "execution_count": 18,
   "metadata": {},
   "outputs": [
    {
     "name": "stdout",
     "output_type": "stream",
     "text": [
      "Decision Tree Classification Report: \n",
      "               precision    recall  f1-score   support\n",
      "\n",
      "        Good       0.70      0.68      0.69      5322\n",
      "        Poor       0.73      0.73      0.73      8805\n",
      "    Standard       0.76      0.77      0.77     15873\n",
      "\n",
      "    accuracy                           0.74     30000\n",
      "   macro avg       0.73      0.73      0.73     30000\n",
      "weighted avg       0.74      0.74      0.74     30000\n",
      "\n",
      "Random Forest Classification Report: \n",
      "               precision    recall  f1-score   support\n",
      "\n",
      "        Good       0.80      0.81      0.81      5322\n",
      "        Poor       0.81      0.86      0.84      8805\n",
      "    Standard       0.86      0.83      0.84     15873\n",
      "\n",
      "    accuracy                           0.83     30000\n",
      "   macro avg       0.83      0.83      0.83     30000\n",
      "weighted avg       0.83      0.83      0.83     30000\n",
      "\n",
      "Gradient Boosting Classifier Classification Report: \n",
      "               precision    recall  f1-score   support\n",
      "\n",
      "        Good       0.59      0.70      0.64      5322\n",
      "        Poor       0.74      0.65      0.69      8805\n",
      "    Standard       0.75      0.75      0.75     15873\n",
      "\n",
      "    accuracy                           0.71     30000\n",
      "   macro avg       0.69      0.70      0.69     30000\n",
      "weighted avg       0.72      0.71      0.71     30000\n",
      "\n"
     ]
    }
   ],
   "source": [
    "print(\"Decision Tree Classification Report: \\n\", classification_report(y_test, y_pred_dt))\n",
    "print(\"Random Forest Classification Report: \\n\", classification_report(y_test, y_pred_rf))\n",
    "print(\"Gradient Boosting Classifier Classification Report: \\n\", classification_report(y_test, y_pred_gbc))"
   ]
  },
  {
   "cell_type": "code",
   "execution_count": null,
   "metadata": {},
   "outputs": [],
   "source": [
    "import matplotlib.pyplot as plt\n",
    "\n",
    "# Get the f1-scores for each class and model\n",
    "dt_f1 = classification_report(y_test, dt_pred, output_dict=True)\n",
    "rf_f1 = classification_report(y_test, rf_pred, output_dict=True)\n",
    "# gb_f1 = classification_report(y_test, gb_pred, output_dict=True)\n",
    "\n",
    "# Extract f1-scores for each class\n",
    "labels = ['Good', 'Poor', 'Standard']\n",
    "dt_scores = [dt_f1[label]['f1-score'] for label in labels]\n",
    "rf_scores = [rf_f1[label]['f1-score'] for label in labels]\n",
    "# gb_scores = [gb_f1[label]['f1-score'] for label in labels]\n",
    "\n",
    "# Plot the bar chart\n",
    "x = np.arange(len(labels))\n",
    "width = 0.25\n",
    "\n",
    "fig, ax = plt.subplots()\n",
    "rects1 = ax.bar(x - width, dt_scores, width, label='Decision Tree')\n",
    "rects2 = ax.bar(x, rf_scores, width, label='Random Forest')\n",
    "# rects3 = ax.bar(x + width, gb_scores, width, label='Gradient Boosting')\n",
    "\n",
    "ax.set_ylabel('F1-Score')\n",
    "ax.set_title('F1-Score by Class and Algorithm')\n",
    "ax.set_xticks(x)\n",
    "ax.set_xticklabels(labels)\n",
    "ax.legend()\n",
    "\n",
    "fig.tight_layout()\n",
    "plt.show()"
   ]
  },
  {
   "cell_type": "markdown",
   "metadata": {},
   "source": [
    "Here we will explore how these algorithms differ, based on the data. Below we will explore the pro / cons of each algorithm, and how they differ in regards to overfitiing, noise and class distribution. \n",
    "\n",
    "**Decision Trees:**\n",
    "Decision Trees are a non-parametric method that recursively splits the feature space based on the features that provide the highest information gain or the lowest impurity (e.g., Gini impurity or entropy). The tree grows until a stopping criterion is met, such as reaching a maximum depth or minimum samples per leaf. \n",
    "\n",
    "- ***Overfitting:*** Decision Trees are prone to overfitting, especially when they are deep, because they can perfectly fit the training data by creating overly complex decision boundaries. Overfitting leads to poor generalization performance on unseen data.\n",
    "\n",
    "- ***Noise:*** Decision Trees can be sensitive to noise in the data, as even small changes in the input data might lead to completely different tree structures. This sensitivity makes them less robust in handling noisy data.\n",
    "\n",
    "- ***Class Distributions:*** Decision Trees can handle imbalanced class distributions reasonably well, as they can create decision boundaries that separate minority classes from majority classes. However, in the presence of severe class imbalance, the model might still be biased towards the majority class.\n",
    "\n",
    "**Random Forests:**\n",
    "Random Forests are an ensemble method that combines multiple decision trees, built independently from each other. During the construction of each tree, a random subset of the training data and features is selected, which introduces diversity in the forest. The final prediction is obtained by averaging (for regression) or majority voting (for classification) the predictions of the individual trees.\n",
    "\n",
    "- ***Overfitting:*** Random Forests help mitigate overfitting by averaging the predictions of multiple trees. The diverse set of trees, each trained on a different subset of data and features, reduces the overall model's complexity and provides a more generalized decision boundary.\n",
    "\n",
    "- ***Noise:*** Random Forests are more robust to noise than single decision trees, as the ensemble's averaging effect reduces the impact of noise present in individual trees. However, Random Forests can still be maffected by noise when the noise level is high.\n",
    "\n",
    "- ***Class Distributions:*** Random Forests can handle imbalanced class distributions by adjusting the class weights or using techniques like bootstrapping, which can create a more balanced representation of the classes during the training process. However, severe class imbalance might still lead to biased predictions towards the majority class.\n",
    "\n",
    "**Gradient Boosting Classifier:**\n",
    "Gradient Boosting Classifier is another ensemble method that combines multiple weak learners (usually shallow decision trees) in a stage-wise fashion. It starts with a simple initial model and iteratively improves it by adding new weak learners that focus on the errors made by the previous models.\n",
    "\n",
    "- ***Overfitting:*** Gradient Boosting Classifier can control overfitting by using shallow trees as weak learners and by limiting the number of boosting iterations. However, if the model is not well-tuned, overfitting can still occur, especially when the learning rate is high, or the number of boosting iterations is excessive.\n",
    "\n",
    "- ***Noise:*** Gradient Boosting Classifier can handle noisy data to some extent, as it focuses on the errors made by previous models during the boosting process. However, if the noise level is high, the algorithm might end up fitting the noise, resulting in overfitting and poor generalization performance.\n",
    "\n",
    "- ***Class Distributions:*** Gradient Boosting Classifier can handle imbalanced class distributions by adjusting the loss function or using techniques like sample weighting or cost-sensitive learning. However, it might still struggle with severe class imbalance, which can lead to biased predictions.\n",
    "\n",
    "The performance differences among the three algorithms can be attributed to their underlying theories related to overfitting, noise, and class distributions, and are explored above. Random Forests perform the best in this problem because they effectively mitigate overfitting and handle noise better by averaging the predictions of multiple decision trees, leading to a more accurate and stable model. Gradient Boosting Classifier can also perform well when tuned correctly, but it might be more sensitive to noise and overfitting depending on the learning rate and number of boosting iterations. Decision Trees, while simple and easy to understand, tend to suffer from overfitting and are less robust to noise compared to the ensemble methods.\n",
    "\n",
    "***Overall, the choice of the algorithm depends on the specific problem and the characteristics of the dataset. Below, we will try to improve the algorithms above.***"
   ]
  },
  {
   "cell_type": "markdown",
   "metadata": {},
   "source": [
    "## Improving ML Algorithms - Hyperparamer Tuning"
   ]
  },
  {
   "cell_type": "markdown",
   "metadata": {},
   "source": [
    "**Decision Tree:** Key hyperparameters:\n",
    "- ***max_depth:*** The maximum depth of the tree. Deeper trees can lead to overfitting, while shallow trees might result in underfitting.\n",
    "- ***min_samples_split:*** The minimum number of samples required to split an internal node. Larger values result in a more regularized model.\n",
    "- ***min_samples_leaf:*** The minimum number of samples required to be at a leaf node. Larger values can help prevent overfitting.\n",
    "\n",
    "**Random Forest:** Key hyperparameters:\n",
    "- ***n_estimators:*** The number of trees in the forest. Increasing this value generally improves the model's performance but also increases the computational cost.\n",
    "- ***max_depth:*** The maximum depth of each tree in the forest. Similar to Decision Trees, controlling the depth helps in balancing bias and variance.\n",
    "- ***min_samples_split and min_samples_leaf:*** These parameters have the same meaning as in Decision Trees and help in regularizing the model.\n",
    "\n",
    "**Gradient Boosting Classifier:** Key hyperparameters:\n",
    "- ***n_estimators:*** The number of boosting stages to perform. A larger number of estimators can improve performance but may lead to overfitting.\n",
    "- ***learning_rate:*** The rate at which the model learns from the errors of previous iterations. A smaller learning rate requires more iterations but can result in a more accurate model.\n",
    "- max_depth: The maximum depth of the individual trees. Similar to Decision Trees, controlling the depth helps in balancing bias and variance.\n",
    "- ***subsample:*** The fraction of samples to be used for fitting the individual base learners. Using a smaller subsample value introduces randomness and can help in reducing overfitting."
   ]
  },
  {
   "cell_type": "code",
   "execution_count": 19,
   "metadata": {},
   "outputs": [],
   "source": [
    "from sklearn.model_selection import RandomizedSearchCV"
   ]
  },
  {
   "cell_type": "markdown",
   "metadata": {},
   "source": [
    "Both GridSearchCV and RandomizedSearchCV are techniques used in hyperparameter tuning of machine learning models. The key difference between them is the way in which they search the hyperparameter space.\n",
    "\n",
    "- **GridSearchCV** performs an exhaustive search over a predefined set of hyperparameters. It generates all possible combinations of hyperparameters and evaluates the model for each combination. This approach can be effective for small hyperparameter spaces, but can quickly become computationally expensive for large hyperparameter spaces.\n",
    "\n",
    "- **RandomizedSearchCV**, on the other hand, performs a randomized search over the hyperparameter space. It generates a fixed number of random combinations of hyperparameters and evaluates the model for each combination. This approach can be more efficient for large hyperparameter spaces and can often find good hyperparameter combinations faster than GridSearchCV.\n",
    "\n",
    "***In this project I attempted GridSearchCV, but it proved too computationally expensive.***"
   ]
  },
  {
   "cell_type": "code",
   "execution_count": 20,
   "metadata": {},
   "outputs": [
    {
     "name": "stdout",
     "output_type": "stream",
     "text": [
      "Fitting 3 folds for each of 50 candidates, totalling 150 fits\n"
     ]
    },
    {
     "name": "stderr",
     "output_type": "stream",
     "text": [
      "[Parallel(n_jobs=-1)]: Using backend LokyBackend with 12 concurrent workers.\n",
      "[Parallel(n_jobs=-1)]: Done  17 tasks      | elapsed:    6.8s\n",
      "[Parallel(n_jobs=-1)]: Done 150 out of 150 | elapsed:   31.8s finished\n"
     ]
    },
    {
     "name": "stdout",
     "output_type": "stream",
     "text": [
      "Fitting 3 folds for each of 50 candidates, totalling 150 fits\n"
     ]
    },
    {
     "name": "stderr",
     "output_type": "stream",
     "text": [
      "[Parallel(n_jobs=-1)]: Using backend LokyBackend with 12 concurrent workers.\n",
      "[Parallel(n_jobs=-1)]: Done  17 tasks      | elapsed:  1.0min\n",
      "[Parallel(n_jobs=-1)]: Done 150 out of 150 | elapsed: 10.1min finished\n"
     ]
    },
    {
     "name": "stdout",
     "output_type": "stream",
     "text": [
      "Best Decision Tree Parameters:  {'min_samples_split': 2, 'min_samples_leaf': 1, 'max_depth': 20, 'criterion': 'gini'}\n",
      "Best Random Forest Parameters:  {'n_estimators': 300, 'min_samples_split': 2, 'min_samples_leaf': 1, 'max_depth': 50, 'bootstrap': False}\n"
     ]
    }
   ],
   "source": [
    "# Decision Tree\n",
    "dt_params = {\n",
    "    'max_depth': [10, 20, 30, 40, 50, None],\n",
    "    'min_samples_split': [2, 5, 10],\n",
    "    'min_samples_leaf': [1, 2, 4],\n",
    "    'criterion': ['gini', 'entropy']\n",
    "}\n",
    "\n",
    "dt_random_search = RandomizedSearchCV(\n",
    "    estimator=DecisionTreeClassifier(),\n",
    "    param_distributions=dt_params,\n",
    "    n_iter=50,\n",
    "    cv=3,\n",
    "    verbose=2,\n",
    "    random_state=42,\n",
    "    n_jobs=-1\n",
    ")\n",
    "\n",
    "# Random Forest\n",
    "rf_params = {\n",
    "    'n_estimators': [100, 200, 300],\n",
    "    'max_depth': [10, 20, 30, 40, 50, None],\n",
    "    'min_samples_split': [2, 5, 10],\n",
    "    'min_samples_leaf': [1, 2, 4],\n",
    "    'bootstrap': [True, False]\n",
    "}\n",
    "\n",
    "rf_random_search = RandomizedSearchCV(\n",
    "    estimator=RandomForestClassifier(),\n",
    "    param_distributions=rf_params,\n",
    "    n_iter=50,\n",
    "    cv=3,\n",
    "    verbose=2,\n",
    "    random_state=42,\n",
    "    n_jobs=-1\n",
    ")\n",
    "\n",
    "# Gradient Boosting Classifier\n",
    "#gb_params = {\n",
    "#    'n_estimators': [100, 200, 300],\n",
    "#   'learning_rate': [0.01, 0.1, 0.2],\n",
    "#    'max_depth': [3, 5, 10, 20],\n",
    "#    'min_samples_split': [2, 5, 10],\n",
    "#    'min_samples_leaf': [1, 2, 4],\n",
    "#    'subsample': [0.5, 0.75, 1.0],\n",
    "#    'max_features': ['auto', 'sqrt', 'log2']\n",
    "#}\n",
    "\n",
    "#gb_random_search = RandomizedSearchCV(\n",
    "#    estimator=GradientBoostingClassifier(),\n",
    "#    param_distributions=gb_params,\n",
    "#    n_iter=50,\n",
    "#    cv=3,\n",
    "#    verbose=2,\n",
    "#    random_state=42,\n",
    "#    n_jobs=-1\n",
    "#)\n",
    "\n",
    "# Fit the random search models\n",
    "dt_random_search.fit(X_train, y_train)\n",
    "rf_random_search.fit(X_train, y_train)\n",
    "#gb_random_search.fit(X_train, y_train)\n",
    "\n",
    "# Print the best parameters for each model\n",
    "print(\"Best Decision Tree Parameters: \", dt_random_search.best_params_)\n",
    "print(\"Best Random Forest Parameters: \", rf_random_search.best_params_)\n",
    "#print(\"Best Gradient Boosting Parameters: \", gb_random_search.best_params_)\n"
   ]
  },
  {
   "cell_type": "code",
   "execution_count": 22,
   "metadata": {},
   "outputs": [
    {
     "name": "stdout",
     "output_type": "stream",
     "text": [
      "Decision Tree Classification Report:\n",
      "              precision    recall  f1-score   support\n",
      "\n",
      "        Good       0.66      0.68      0.67      5322\n",
      "        Poor       0.74      0.71      0.72      8805\n",
      "    Standard       0.76      0.78      0.77     15873\n",
      "\n",
      "    accuracy                           0.74     30000\n",
      "   macro avg       0.72      0.72      0.72     30000\n",
      "weighted avg       0.74      0.74      0.74     30000\n",
      "\n",
      "Random Forest Classification Report:\n",
      "              precision    recall  f1-score   support\n",
      "\n",
      "        Good       0.82      0.82      0.82      5322\n",
      "        Poor       0.82      0.86      0.84      8805\n",
      "    Standard       0.86      0.83      0.85     15873\n",
      "\n",
      "    accuracy                           0.84     30000\n",
      "   macro avg       0.83      0.84      0.83     30000\n",
      "weighted avg       0.84      0.84      0.84     30000\n",
      "\n",
      "Gradient Boosting Classifier Classification Report:\n"
     ]
    }
   ],
   "source": [
    "# Get the best models\n",
    "best_dt = dt_random_search.best_estimator_\n",
    "best_rf = rf_random_search.best_estimator_\n",
    "# best_gb = gb_random_search.best_estimator_\n",
    "\n",
    "# Predict with the best models\n",
    "dt_pred = best_dt.predict(X_test)\n",
    "rf_pred = best_rf.predict(X_test)\n",
    "# gb_pred = best_gb.predict(X_test)\n",
    "\n",
    "# Classification reports\n",
    "print(\"Decision Tree Classification Report:\")\n",
    "print(classification_report(y_test, dt_pred))\n",
    "\n",
    "print(\"Random Forest Classification Report:\")\n",
    "print(classification_report(y_test, rf_pred))\n",
    "\n",
    "print(\"Gradient Boosting Classifier Classification Report:\")\n",
    "# print(classification_report(y_test, gb_pred))"
   ]
  },
  {
   "cell_type": "code",
   "execution_count": 23,
   "metadata": {},
   "outputs": [
    {
     "name": "stdout",
     "output_type": "stream",
     "text": [
      "Best Decision Tree Parameters:  {'min_samples_split': 2, 'min_samples_leaf': 1, 'max_depth': 20, 'criterion': 'gini'}\n",
      "Best Random Forest Parameters:  {'n_estimators': 300, 'min_samples_split': 2, 'min_samples_leaf': 1, 'max_depth': 50, 'bootstrap': False}\n"
     ]
    }
   ],
   "source": [
    "print(\"Best Decision Tree Parameters: \", dt_random_search.best_params_)\n",
    "print(\"Best Random Forest Parameters: \", rf_random_search.best_params_)\n",
    "# print(\"Best Gradient Boosting Parameters: \", gb_random_search.best_params_)"
   ]
  },
  {
   "cell_type": "markdown",
   "metadata": {},
   "source": [
    "***Important to Note - I removed the gradient boosting in the code and made them invisible since running GB with randomizedSearchCV took over an hour to solve. However the performance was not as impressive as Random Forest***"
   ]
  },
  {
   "cell_type": "markdown",
   "metadata": {},
   "source": [
    "### Comparing these Results:"
   ]
  },
  {
   "cell_type": "code",
   "execution_count": 25,
   "metadata": {},
   "outputs": [
    {
     "data": {
      "image/png": "[encoded data removed]",
      "text/plain": [
       "<Figure size 432x288 with 1 Axes>"
      ]
     },
     "metadata": {
      "needs_background": "light"
     },
     "output_type": "display_data"
    }
   ],
   "source": [
    "import matplotlib.pyplot as plt\n",
    "\n",
    "# Get the f1-scores for each class and model\n",
    "dt_f1 = classification_report(y_test, dt_pred, output_dict=True)\n",
    "rf_f1 = classification_report(y_test, rf_pred, output_dict=True)\n",
    "# gb_f1 = classification_report(y_test, gb_pred, output_dict=True)\n",
    "\n",
    "# Extract f1-scores for each class\n",
    "labels = ['Good', 'Poor', 'Standard']\n",
    "dt_scores = [dt_f1[label]['f1-score'] for label in labels]\n",
    "rf_scores = [rf_f1[label]['f1-score'] for label in labels]\n",
    "# gb_scores = [gb_f1[label]['f1-score'] for label in labels]\n",
    "\n",
    "# Plot the bar chart\n",
    "x = np.arange(len(labels))\n",
    "width = 0.25\n",
    "\n",
    "fig, ax = plt.subplots()\n",
    "rects1 = ax.bar(x - width, dt_scores, width, label='Decision Tree')\n",
    "rects2 = ax.bar(x, rf_scores, width, label='Random Forest')\n",
    "# rects3 = ax.bar(x + width, gb_scores, width, label='Gradient Boosting')\n",
    "\n",
    "ax.set_ylabel('F1-Score')\n",
    "ax.set_title('F1-Score by Class and Algorithm')\n",
    "ax.set_xticks(x)\n",
    "ax.set_xticklabels(labels)\n",
    "ax.legend()\n",
    "\n",
    "fig.tight_layout()\n",
    "plt.show()"
   ]
  },
  {
   "cell_type": "markdown",
   "metadata": {},
   "source": [
    "## Possible Future Directions\n",
    "\n",
    "### Neural Networks\n",
    "\n",
    "***Pros of Neural Networks:***\n",
    "- Neural networks can capture complex patterns in the data and are especially good at handling non-linear relationships.\n",
    "- They can automatically learn and model feature interactions without the need for explicit feature engineering.\n",
    "- They can be highly accurate if properly tuned and trained on large datasets.\n",
    "\n",
    "***Cons of Neural Networks:***\n",
    "- Neural networks can be computationally expensive and may take a long time to train, especially on large datasets.\n",
    "- They are more sensitive to the quality and quantity of data, often requiring large amounts of labeled data to perform well.\n",
    "- They can be prone to overfitting, especially when the model architecture is too complex.\n",
    "- They are often considered \"black boxes\" due to the difficulty of interpreting and understanding the internal workings of the model."
   ]
  },
  {
   "cell_type": "markdown",
   "metadata": {},
   "source": [
    "### Other Possible Directions\n",
    "\n",
    "- **Proffesional Expertise** - Leveraging domain knowledge to prioritize the most informative samples for annotation and model training. This would mean using a financial advisor to determine which features are more important; or what feature are missing and should be added to algorithm.\n",
    "\n",
    "\n",
    "- **Regression model** - Unfortunately, the data did not have the credit score in a numerical form. Instead, it's a classification system that sorts individuals into [Poor, Standard, Good]. Using a regression model to predict the numerical credit score, and then classifying the credit score can be an interesting approach. By predicting the exact credit score value first, you might capture more information about the underlying distribution and relationships in the data. After obtaining the predicted credit score, you can set thresholds to classify it into the categories [Poor, Standard, Good]. This approach could potentially improve the performance of the model, especially if the relationships between the features and the credit score are more linear in nature. "
   ]
  },
  {
   "cell_type": "markdown",
   "metadata": {},
   "source": [
    "# Conclusion\n",
    "\n",
    "In this project, we aimed to classify credit scores into three categories: Good, Poor, and Standard. We started by implementing three classification algorithms: Decision Tree, Random Forest, and Gradient Boosting Classifier. We evaluated their performance using classification reports, which provided precision, recall, f1-score, and accuracy metrics for each algorithm. Although Random Forest performed fairly well; we can improve it. Next, we used RandomizedSearchCV to perform hyperparameter tuning on these three algorithms, aiming to improve their performance. We compared their performance after tuning and observed improvements in the metrics for each algorithm compared to their default parameters.\n",
    "\n",
    "In the future, we can use more advanced algorithms, however to fully utilize their benefits we would need more data to improve the performance of these models. We implemented a Neural Network algorithm as an alternative approach to classify credit scores. We discussed its pros and cons and potential directions to improve the performance of this project further.\n",
    "\n",
    "Overall, the Random Forest and Gradient Boosting Classifier generally showed better performance than the Decision Tree algorithm. The choice of the most suitable technique depends on the specific requirements and constraints of the project, such as computational resources, prediction speed, and interpretability. However, as mentioned their is a lot more to improve, such as feature engineering, amount of data utilized, and complexity of algorithms. To find the best performing model we should also utilize GridSearchCV if their was enough computational power and time. "
   ]
  }
 ],
 "metadata": {
  "kernelspec": {
   "display_name": "Python 3 (ipykernel)",
   "language": "python",
   "name": "python3"
  },
  "language_info": {
   "codemirror_mode": {
    "name": "ipython",
    "version": 3
   },
   "file_extension": ".py",
   "mimetype": "text/x-python",
   "name": "python",
   "nbconvert_exporter": "python",
   "pygments_lexer": "ipython3",
   "version": "3.11.4"
  }
 },
 "nbformat": 4,
 "nbformat_minor": 4
}

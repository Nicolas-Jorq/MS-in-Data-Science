{
 "cells": [
  {
   "cell_type": "markdown",
   "metadata": {},
   "source": [
    "# Programming Assignment: Numerical Optimization for Logistic Regression.\n",
    "\n",
    "### Name: Nicolas Jorquera\n"
   ]
  },
  {
   "cell_type": "markdown",
   "metadata": {},
   "source": [
    "This programming assignment is focused on implementing and understanding numerical optimization techniques for logistic regression."
   ]
  },
  {
   "cell_type": "markdown",
   "metadata": {},
   "source": [
    "# 1. Data processing\n",
    "\n",
    "- Download the Diabete dataset from https://www.csie.ntu.edu.tw/~cjlin/libsvmtools/datasets/binary/diabetes\n",
    "- Load the data using sklearn.\n",
    "- Preprocess the data."
   ]
  },
  {
   "cell_type": "markdown",
   "metadata": {},
   "source": [
    "## 1.1. Load the data"
   ]
  },
  {
   "cell_type": "code",
   "execution_count": 1,
   "metadata": {},
   "outputs": [
    {
     "name": "stdout",
     "output_type": "stream",
     "text": [
      "Shape of x: (768, 8)\n",
      "Shape of y: (768,)\n"
     ]
    }
   ],
   "source": [
    "from sklearn import datasets\n",
    "import numpy\n",
    "\n",
    "x_sparse, y = datasets.load_svmlight_file('diabetes')\n",
    "x = x_sparse.todense()\n",
    "\n",
    "print('Shape of x: ' + str(x.shape))\n",
    "print('Shape of y: ' + str(y.shape))"
   ]
  },
  {
   "cell_type": "markdown",
   "metadata": {},
   "source": [
    "## 1.2. Partition to training and test sets"
   ]
  },
  {
   "cell_type": "code",
   "execution_count": 2,
   "metadata": {},
   "outputs": [
    {
     "name": "stdout",
     "output_type": "stream",
     "text": [
      "Shape of x_train: (640, 8)\n",
      "Shape of x_test: (128, 8)\n",
      "Shape of y_train: (640, 1)\n",
      "Shape of y_test: (128, 1)\n"
     ]
    }
   ],
   "source": [
    "# partition the data to training and test sets\n",
    "n = x.shape[0]\n",
    "n_train = 640\n",
    "n_test = n - n_train\n",
    "\n",
    "rand_indices = numpy.random.permutation(n)\n",
    "train_indices = rand_indices[0:n_train]\n",
    "test_indices = rand_indices[n_train:n]\n",
    "\n",
    "x_train = x[train_indices, :]\n",
    "x_test = x[test_indices, :]\n",
    "y_train = y[train_indices].reshape(n_train, 1)\n",
    "y_test = y[test_indices].reshape(n_test, 1)\n",
    "\n",
    "print('Shape of x_train: ' + str(x_train.shape))\n",
    "print('Shape of x_test: ' + str(x_test.shape))\n",
    "print('Shape of y_train: ' + str(y_train.shape))\n",
    "print('Shape of y_test: ' + str(y_test.shape))"
   ]
  },
  {
   "cell_type": "markdown",
   "metadata": {},
   "source": [
    "## 1.3. Feature scaling"
   ]
  },
  {
   "cell_type": "markdown",
   "metadata": {},
   "source": [
    "Use the standardization to trainsform both training and test features"
   ]
  },
  {
   "cell_type": "code",
   "execution_count": 3,
   "metadata": {},
   "outputs": [
    {
     "name": "stdout",
     "output_type": "stream",
     "text": [
      "test mean = \n",
      "[[-0.22315611 -0.10623629  0.06089894  0.13703178  0.10974327  0.04668565\n",
      "   0.06812794 -0.10361796]]\n",
      "test std = \n",
      "[[0.89991862 0.97139067 0.85663785 1.03538562 0.91495114 0.99694526\n",
      "  1.06049463 1.0442551 ]]\n"
     ]
    }
   ],
   "source": [
    "# Standardization\n",
    "import numpy\n",
    "\n",
    "# calculate mu and sig using the training set\n",
    "d = x_train.shape[1]\n",
    "mu = numpy.mean(x_train, axis=0).reshape(1, d)\n",
    "sig = numpy.std(x_train, axis=0).reshape(1, d)\n",
    "\n",
    "# transform the training features\n",
    "x_train = (x_train - mu) / (sig + 1E-6)\n",
    "\n",
    "# transform the test features\n",
    "x_test = (x_test - mu) / (sig + 1E-6)\n",
    "\n",
    "print('test mean = ')\n",
    "print(numpy.mean(x_test, axis=0))\n",
    "\n",
    "print('test std = ')\n",
    "print(numpy.std(x_test, axis=0))"
   ]
  },
  {
   "cell_type": "markdown",
   "metadata": {},
   "source": [
    "## 1.4. Add a dimension of all ones"
   ]
  },
  {
   "cell_type": "code",
   "execution_count": 4,
   "metadata": {},
   "outputs": [
    {
     "name": "stdout",
     "output_type": "stream",
     "text": [
      "Shape of x_train: (640, 9)\n",
      "Shape of x_test: (128, 9)\n"
     ]
    }
   ],
   "source": [
    "n_train, d = x_train.shape\n",
    "x_train = numpy.concatenate((x_train, numpy.ones((n_train, 1))), axis=1)\n",
    "\n",
    "n_test, d = x_test.shape\n",
    "x_test = numpy.concatenate((x_test, numpy.ones((n_test, 1))), axis=1)\n",
    "\n",
    "print('Shape of x_train: ' + str(x_train.shape))\n",
    "print('Shape of x_test: ' + str(x_test.shape))"
   ]
  },
  {
   "cell_type": "markdown",
   "metadata": {},
   "source": [
    "# 2. Logistic regression model\n",
    "\n",
    "The objective function is $Q (w; X, y) = \\frac{1}{n} \\sum_{i=1}^n \\log \\Big( 1 + \\exp \\big( - y_i x_i^T w \\big) \\Big) + \\frac{\\lambda}{2} \\| w \\|_2^2 $."
   ]
  },
  {
   "cell_type": "code",
   "execution_count": 5,
   "metadata": {},
   "outputs": [],
   "source": [
    "# Calculate the objective function value\n",
    "# Inputs:\n",
    "#     w: d-by-1 matrix\n",
    "#     x: n-by-d matrix\n",
    "#     y: n-by-1 matrix\n",
    "#     lam: scalar, the regularization parameter\n",
    "# Return:\n",
    "#     objective function value (scalar)\n",
    "def objective(w, x, y, lam):\n",
    "    n, d = x.shape\n",
    "    yx = numpy.multiply(y, x) # n-by-d matrix\n",
    "    yxw = numpy.dot(yx, w) # n-by-1 matrix\n",
    "    vec1 = numpy.exp(-yxw) # n-by-1 matrix\n",
    "    vec2 = numpy.log(1 + vec1) # n-by-1 matrix\n",
    "    loss = numpy.mean(vec2) # scalar\n",
    "    reg = lam / 2 * numpy.sum(w * w) # scalar\n",
    "    return loss + reg\n",
    "    "
   ]
  },
  {
   "cell_type": "code",
   "execution_count": 6,
   "metadata": {},
   "outputs": [
    {
     "name": "stdout",
     "output_type": "stream",
     "text": [
      "Initial objective function value = 0.6931471805599453\n"
     ]
    }
   ],
   "source": [
    "# initialize w\n",
    "d = x_train.shape[1]\n",
    "w = numpy.zeros((d, 1))\n",
    "\n",
    "# evaluate the objective function value at w\n",
    "lam = 1E-6\n",
    "objval0 = objective(w, x_train, y_train, lam)\n",
    "print('Initial objective function value = ' + str(objval0))"
   ]
  },
  {
   "cell_type": "markdown",
   "metadata": {},
   "source": [
    "# 3. Numerical optimization"
   ]
  },
  {
   "cell_type": "markdown",
   "metadata": {},
   "source": [
    "## 3.1. Gradient descent\n"
   ]
  },
  {
   "cell_type": "markdown",
   "metadata": {},
   "source": [
    "The gradient at $w$ is $g = - \\frac{1}{n} \\sum_{i=1}^n \\frac{y_i x_i }{1 + \\exp ( y_i x_i^T w)} + \\lambda w$"
   ]
  },
  {
   "cell_type": "code",
   "execution_count": 7,
   "metadata": {},
   "outputs": [],
   "source": [
    "# Calculate the gradient\n",
    "# Inputs:\n",
    "#     w: d-by-1 matrix\n",
    "#     x: n-by-d matrix\n",
    "#     y: n-by-1 matrix\n",
    "#     lam: scalar, the regularization parameter\n",
    "# Return:\n",
    "#     g: g: d-by-1 matrix, full gradient\n",
    "def gradient(w, x, y, lam):\n",
    "    n, d = x.shape\n",
    "    yx = numpy.multiply(y, x) # n-by-d matrix\n",
    "    yxw = numpy.dot(yx, w) # n-by-1 matrix\n",
    "    vec1 = numpy.exp(yxw) # n-by-1 matrix\n",
    "    vec2 = numpy.divide(yx, 1+vec1) # n-by-d matrix\n",
    "    vec3 = -numpy.mean(vec2, axis=0).reshape(d, 1) # d-by-1 matrix\n",
    "    g = vec3 + lam * w\n",
    "    return g"
   ]
  },
  {
   "cell_type": "code",
   "execution_count": 8,
   "metadata": {},
   "outputs": [],
   "source": [
    "# Gradient descent for solving logistic regression\n",
    "# Inputs:\n",
    "#     x: n-by-d matrix\n",
    "#     y: n-by-1 matrix\n",
    "#     lam: scalar, the regularization parameter\n",
    "#     stepsize: scalar\n",
    "#     max_iter: integer, the maximal iterations\n",
    "#     w: d-by-1 matrix, initialization of w\n",
    "# Return:\n",
    "#     w: d-by-1 matrix, the solution\n",
    "#     objvals: a record of each iteration's objective value\n",
    "def grad_descent(x, y, lam, stepsize, max_iter=100, w=None):\n",
    "    n, d = x.shape\n",
    "    objvals = numpy.zeros(max_iter) # store the objective values\n",
    "    if w is None:\n",
    "        w = numpy.zeros((d, 1)) # zero initialization\n",
    "    \n",
    "    for t in range(max_iter):\n",
    "        objval = objective(w, x, y, lam)\n",
    "        objvals[t] = objval\n",
    "        print('Objective value at t=' + str(t) + ' is ' + str(objval))\n",
    "        g = gradient(w, x, y, lam)\n",
    "        w -= stepsize * g\n",
    "    \n",
    "    return w, objvals"
   ]
  },
  {
   "cell_type": "markdown",
   "metadata": {},
   "source": [
    "Run gradient descent."
   ]
  },
  {
   "cell_type": "code",
   "execution_count": 9,
   "metadata": {},
   "outputs": [
    {
     "name": "stdout",
     "output_type": "stream",
     "text": [
      "Objective value at t=0 is 0.6931471805599453\n",
      "Objective value at t=1 is 0.5899262456528608\n",
      "Objective value at t=2 is 0.5503267052688869\n",
      "Objective value at t=3 is 0.5297074771198557\n",
      "Objective value at t=4 is 0.5170590186243886\n",
      "Objective value at t=5 is 0.5085717963549613\n",
      "Objective value at t=6 is 0.502561338309953\n",
      "Objective value at t=7 is 0.49815249366494363\n",
      "Objective value at t=8 is 0.4948377667270184\n",
      "Objective value at t=9 is 0.49229948717556715\n",
      "Objective value at t=10 is 0.4903277319857412\n",
      "Objective value at t=11 is 0.48877819212964274\n",
      "Objective value at t=12 is 0.487548666733603\n",
      "Objective value at t=13 is 0.4865650720992058\n",
      "Objective value at t=14 is 0.4857726855916749\n",
      "Objective value at t=15 is 0.485130447196894\n",
      "Objective value at t=16 is 0.48460713438337394\n",
      "Objective value at t=17 is 0.48417872921607247\n",
      "Objective value at t=18 is 0.48382656792278517\n",
      "Objective value at t=19 is 0.4835360170673685\n",
      "Objective value at t=20 is 0.48329551170967744\n",
      "Objective value at t=21 is 0.4830958469477449\n",
      "Objective value at t=22 is 0.48292964966259966\n",
      "Objective value at t=23 is 0.48279098024870554\n",
      "Objective value at t=24 is 0.4826750293129206\n",
      "Objective value at t=25 is 0.48257788457077827\n",
      "Objective value at t=26 is 0.4824963501870177\n",
      "Objective value at t=27 is 0.4824278056841482\n",
      "Objective value at t=28 is 0.48237009497639427\n",
      "Objective value at t=29 is 0.4823214385330919\n",
      "Objective value at t=30 is 0.4822803634387008\n",
      "Objective value at t=31 is 0.4822456474004116\n",
      "Objective value at t=32 is 0.4822162736983163\n",
      "Objective value at t=33 is 0.4821913947736393\n",
      "Objective value at t=34 is 0.4821703026748835\n",
      "Objective value at t=35 is 0.4821524049774506\n",
      "Objective value at t=36 is 0.4821372050932042\n",
      "Objective value at t=37 is 0.48212428611691843\n",
      "Objective value at t=38 is 0.48211329753430165\n",
      "Objective value at t=39 is 0.4821039442542287\n",
      "Objective value at t=40 is 0.48209597753552563\n",
      "Objective value at t=41 is 0.4820891874632333\n",
      "Objective value at t=42 is 0.48208339669604494\n",
      "Objective value at t=43 is 0.48207845525958815\n",
      "Objective value at t=44 is 0.48207423620245193\n",
      "Objective value at t=45 is 0.48207063196567096\n",
      "Objective value at t=46 is 0.48206755134356044\n",
      "Objective value at t=47 is 0.4820649169357391\n",
      "Objective value at t=48 is 0.48206266300794715\n",
      "Objective value at t=49 is 0.48206073369371527\n",
      "Objective value at t=50 is 0.48205908148072035\n",
      "Objective value at t=51 is 0.4820576659352957\n",
      "Objective value at t=52 is 0.4820564526264696\n",
      "Objective value at t=53 is 0.48205541221740117\n",
      "Objective value at t=54 is 0.48205451969744106\n",
      "Objective value at t=55 is 0.4820537537324699\n",
      "Objective value at t=56 is 0.48205309611483116\n",
      "Objective value at t=57 is 0.4820525312972199\n",
      "Objective value at t=58 is 0.4820520459974114\n",
      "Objective value at t=59 is 0.48205162886282343\n",
      "Objective value at t=60 is 0.48205127018565874\n",
      "Objective value at t=61 is 0.48205096166084344\n",
      "Objective value at t=62 is 0.4820506961802021\n",
      "Objective value at t=63 is 0.48205046765734094\n",
      "Objective value at t=64 is 0.4820502708785724\n",
      "Objective value at t=65 is 0.48205010137593673\n",
      "Objective value at t=66 is 0.4820499553189897\n",
      "Objective value at t=67 is 0.4820498294225334\n",
      "Objective value at t=68 is 0.48204972086790465\n",
      "Objective value at t=69 is 0.4820496272357931\n",
      "Objective value at t=70 is 0.48204954644887726\n",
      "Objective value at t=71 is 0.482049476722818\n",
      "Objective value at t=72 is 0.48204941652437555\n",
      "Objective value at t=73 is 0.4820493645355968\n",
      "Objective value at t=74 is 0.48204931962318337\n",
      "Objective value at t=75 is 0.4820492808122763\n",
      "Objective value at t=76 is 0.48204924726401466\n",
      "Objective value at t=77 is 0.4820492182563148\n",
      "Objective value at t=78 is 0.4820491931674036\n",
      "Objective value at t=79 is 0.48204917146170323\n",
      "Objective value at t=80 is 0.4820491526777301\n",
      "Objective value at t=81 is 0.48204913641771346\n",
      "Objective value at t=82 is 0.4820491223386883\n",
      "Objective value at t=83 is 0.4820491101448494\n",
      "Objective value at t=84 is 0.4820490995809863\n",
      "Objective value at t=85 is 0.4820490904268429\n",
      "Objective value at t=86 is 0.4820490824922717\n",
      "Objective value at t=87 is 0.4820490756130675\n",
      "Objective value at t=88 is 0.4820490696473857\n",
      "Objective value at t=89 is 0.4820490644726606\n",
      "Objective value at t=90 is 0.48204905998295416\n",
      "Objective value at t=91 is 0.4820490560866735\n",
      "Objective value at t=92 is 0.48204905270460535\n",
      "Objective value at t=93 is 0.48204904976822455\n",
      "Objective value at t=94 is 0.4820490472182343\n",
      "Objective value at t=95 is 0.48204904500330953\n",
      "Objective value at t=96 is 0.4820490430790136\n",
      "Objective value at t=97 is 0.4820490414068631\n",
      "Objective value at t=98 is 0.4820490399535216\n",
      "Objective value at t=99 is 0.4820490386901039\n"
     ]
    }
   ],
   "source": [
    "lam = 1E-6\n",
    "stepsize = 1.0\n",
    "w, objvals_gd = grad_descent(x_train, y_train, lam, stepsize)"
   ]
  },
  {
   "cell_type": "markdown",
   "metadata": {},
   "source": [
    "## 3.2. Stochastic gradient descent (SGD)\n",
    "\n",
    "Define $Q_i (w) = \\log \\Big( 1 + \\exp \\big( - y_i x_i^T w \\big) \\Big) + \\frac{\\lambda}{2} \\| w \\|_2^2 $.\n",
    "\n",
    "The stochastic gradient at $w$ is $g_i = \\frac{\\partial Q_i }{ \\partial w} = -\\frac{y_i x_i }{1 + \\exp ( y_i x_i^T w)} + \\lambda w$."
   ]
  },
  {
   "cell_type": "code",
   "execution_count": 10,
   "metadata": {},
   "outputs": [],
   "source": [
    "# Calculate the objective Q_i and the gradient of Q_i\n",
    "# Inputs:\n",
    "#     w: d-by-1 matrix\n",
    "#     xi: 1-by-d matrix\n",
    "#     yi: scalar\n",
    "#     lam: scalar, the regularization parameter\n",
    "# Return:\n",
    "#     obj: scalar, the objective Q_i\n",
    "#     g: d-by-1 matrix, gradient of Q_i\n",
    "def stochastic_objective_gradient(w, xi, yi, lam):\n",
    "    yx = yi * xi # 1-by-d matrix\n",
    "    yxw = float(numpy.dot(yx, w)) # scalar\n",
    "    \n",
    "    # calculate objective function Q_i\n",
    "    loss = numpy.log(1 + numpy.exp(-yxw)) # scalar\n",
    "    reg = lam / 2 * numpy.sum(w * w) # scalar\n",
    "    obj = loss + reg\n",
    "    \n",
    "    # calculate stochastic gradient\n",
    "    g_loss = -yx.T / (1 + numpy.exp(yxw)) # d-by-1 matrix\n",
    "    g = g_loss + lam * w # d-by-1 matrix\n",
    "    \n",
    "    return obj, g"
   ]
  },
  {
   "cell_type": "code",
   "execution_count": 11,
   "metadata": {},
   "outputs": [],
   "source": [
    "# SGD for solving logistic regression\n",
    "# Inputs:\n",
    "#     x: n-by-d matrix\n",
    "#     y: n-by-1 matrix\n",
    "#     lam: scalar, the regularization parameter\n",
    "#     stepsize: scalar\n",
    "#     max_epoch: integer, the maximal epochs\n",
    "#     w: d-by-1 matrix, initialization of w\n",
    "# Return:\n",
    "#     w: the solution\n",
    "#     objvals: record of each iteration's objective value\n",
    "def sgd(x, y, lam, stepsize, max_epoch=100, w=None):\n",
    "    n, d = x.shape\n",
    "    objvals = numpy.zeros(max_epoch) # store the objective values\n",
    "    if w is None:\n",
    "        w = numpy.zeros((d, 1)) # zero initialization\n",
    "    \n",
    "    for t in range(max_epoch):\n",
    "        # randomly shuffle the samples\n",
    "        rand_indices = numpy.random.permutation(n)\n",
    "        x_rand = x[rand_indices, :]\n",
    "        y_rand = y[rand_indices, :]\n",
    "        \n",
    "        objval = 0 # accumulate the objective values\n",
    "        for i in range(n):\n",
    "            xi = x_rand[i, :] # 1-by-d matrix\n",
    "            yi = float(y_rand[i, :]) # scalar\n",
    "            obj, g = stochastic_objective_gradient(w, xi, yi, lam)\n",
    "            objval += obj\n",
    "            w -= stepsize * g\n",
    "        \n",
    "        stepsize *= 0.9 # decrease step size\n",
    "        objval /= n\n",
    "        objvals[t] = objval\n",
    "        print('Objective value at epoch t=' + str(t) + ' is ' + str(objval))\n",
    "    \n",
    "    return w, objvals"
   ]
  },
  {
   "cell_type": "markdown",
   "metadata": {},
   "source": [
    "Run SGD."
   ]
  },
  {
   "cell_type": "code",
   "execution_count": 12,
   "metadata": {},
   "outputs": [
    {
     "name": "stdout",
     "output_type": "stream",
     "text": [
      "Objective value at epoch t=0 is 0.5307369032733213\n",
      "Objective value at epoch t=1 is 0.5313965894393877\n",
      "Objective value at epoch t=2 is 0.5155518054263623\n",
      "Objective value at epoch t=3 is 0.5206562650166766\n",
      "Objective value at epoch t=4 is 0.5054824333919704\n",
      "Objective value at epoch t=5 is 0.5073354670170521\n",
      "Objective value at epoch t=6 is 0.5098450135488223\n",
      "Objective value at epoch t=7 is 0.5096162580296386\n",
      "Objective value at epoch t=8 is 0.5072119219426721\n",
      "Objective value at epoch t=9 is 0.5078422336323614\n",
      "Objective value at epoch t=10 is 0.5006841267184373\n",
      "Objective value at epoch t=11 is 0.4974880684590827\n",
      "Objective value at epoch t=12 is 0.49579202184144516\n",
      "Objective value at epoch t=13 is 0.5006196012438346\n",
      "Objective value at epoch t=14 is 0.4947715132264595\n",
      "Objective value at epoch t=15 is 0.4911401878624876\n",
      "Objective value at epoch t=16 is 0.4928422154393224\n",
      "Objective value at epoch t=17 is 0.4942570494482414\n",
      "Objective value at epoch t=18 is 0.491026822819168\n",
      "Objective value at epoch t=19 is 0.4916315702289733\n",
      "Objective value at epoch t=20 is 0.4899601581394095\n",
      "Objective value at epoch t=21 is 0.4896989388003125\n",
      "Objective value at epoch t=22 is 0.48884786308335404\n",
      "Objective value at epoch t=23 is 0.4883391080553965\n",
      "Objective value at epoch t=24 is 0.48763786702428513\n",
      "Objective value at epoch t=25 is 0.4872270227511958\n",
      "Objective value at epoch t=26 is 0.4865521728712955\n",
      "Objective value at epoch t=27 is 0.48605533711134985\n",
      "Objective value at epoch t=28 is 0.48599692149673535\n",
      "Objective value at epoch t=29 is 0.48554058415513196\n",
      "Objective value at epoch t=30 is 0.4850581750109554\n",
      "Objective value at epoch t=31 is 0.48467762127702824\n",
      "Objective value at epoch t=32 is 0.4845577863175056\n",
      "Objective value at epoch t=33 is 0.4842232213877444\n",
      "Objective value at epoch t=34 is 0.4841833349175695\n",
      "Objective value at epoch t=35 is 0.48397113193136254\n",
      "Objective value at epoch t=36 is 0.48377186569307973\n",
      "Objective value at epoch t=37 is 0.48359361443481924\n",
      "Objective value at epoch t=38 is 0.48341224305630515\n",
      "Objective value at epoch t=39 is 0.48330348743042995\n",
      "Objective value at epoch t=40 is 0.48317926871361216\n",
      "Objective value at epoch t=41 is 0.48305820250468273\n",
      "Objective value at epoch t=42 is 0.4829565358539286\n",
      "Objective value at epoch t=43 is 0.482873899144984\n",
      "Objective value at epoch t=44 is 0.4827955515849311\n",
      "Objective value at epoch t=45 is 0.4827203340752574\n",
      "Objective value at epoch t=46 is 0.4826270699655046\n",
      "Objective value at epoch t=47 is 0.482592210512003\n",
      "Objective value at epoch t=48 is 0.4825369505545555\n",
      "Objective value at epoch t=49 is 0.4824860729161148\n",
      "Objective value at epoch t=50 is 0.48244631045074726\n",
      "Objective value at epoch t=51 is 0.48240709912703494\n",
      "Objective value at epoch t=52 is 0.48237161132370404\n",
      "Objective value at epoch t=53 is 0.4823392373024749\n",
      "Objective value at epoch t=54 is 0.4823111714831132\n",
      "Objective value at epoch t=55 is 0.4822842216142259\n",
      "Objective value at epoch t=56 is 0.48226115682930565\n",
      "Objective value at epoch t=57 is 0.4822390010395968\n",
      "Objective value at epoch t=58 is 0.48222095993126357\n",
      "Objective value at epoch t=59 is 0.4822036858398171\n",
      "Objective value at epoch t=60 is 0.4821884314017204\n",
      "Objective value at epoch t=61 is 0.4821745967108547\n",
      "Objective value at epoch t=62 is 0.4821621386146967\n",
      "Objective value at epoch t=63 is 0.48215079337870465\n",
      "Objective value at epoch t=64 is 0.48214074893379283\n",
      "Objective value at epoch t=65 is 0.48213147277783913\n",
      "Objective value at epoch t=66 is 0.48212326022642793\n",
      "Objective value at epoch t=67 is 0.48211590227478796\n",
      "Objective value at epoch t=68 is 0.4821093243082356\n",
      "Objective value at epoch t=69 is 0.4821033324877891\n",
      "Objective value at epoch t=70 is 0.48209788014991267\n",
      "Objective value at epoch t=71 is 0.4820930751789452\n",
      "Objective value at epoch t=72 is 0.4820887066505894\n",
      "Objective value at epoch t=73 is 0.4820847836491927\n",
      "Objective value at epoch t=74 is 0.4820812532920903\n",
      "Objective value at epoch t=75 is 0.48207807105448863\n",
      "Objective value at epoch t=76 is 0.48207519801719895\n",
      "Objective value at epoch t=77 is 0.4820726081953926\n",
      "Objective value at epoch t=78 is 0.48207028684599906\n",
      "Objective value at epoch t=79 is 0.48206820279082707\n",
      "Objective value at epoch t=80 is 0.48206632072322764\n",
      "Objective value at epoch t=81 is 0.48206462485059254\n",
      "Objective value at epoch t=82 is 0.4820631025857078\n",
      "Objective value at epoch t=83 is 0.4820617274385449\n",
      "Objective value at epoch t=84 is 0.4820604947342401\n",
      "Objective value at epoch t=85 is 0.48205938302496404\n",
      "Objective value at epoch t=86 is 0.48205838344030444\n",
      "Objective value at epoch t=87 is 0.4820574835191854\n",
      "Objective value at epoch t=88 is 0.48205667262205854\n",
      "Objective value at epoch t=89 is 0.4820559434905808\n",
      "Objective value at epoch t=90 is 0.4820552871166286\n",
      "Objective value at epoch t=91 is 0.4820546951642588\n",
      "Objective value at epoch t=92 is 0.48205416440870774\n",
      "Objective value at epoch t=93 is 0.48205368586964326\n",
      "Objective value at epoch t=94 is 0.48205325486566525\n",
      "Objective value at epoch t=95 is 0.48205286763250765\n",
      "Objective value at epoch t=96 is 0.48205251878941724\n",
      "Objective value at epoch t=97 is 0.482052204677204\n",
      "Objective value at epoch t=98 is 0.48205192225046734\n",
      "Objective value at epoch t=99 is 0.4820516679052026\n"
     ]
    }
   ],
   "source": [
    "lam = 1E-6\n",
    "stepsize = 0.1\n",
    "w, objvals_sgd = sgd(x_train, y_train, lam, stepsize)"
   ]
  },
  {
   "cell_type": "markdown",
   "metadata": {},
   "source": [
    "# 4. Compare GD with SGD\n",
    "\n",
    "Plot objective function values against epochs."
   ]
  },
  {
   "cell_type": "code",
   "execution_count": 13,
   "metadata": {},
   "outputs": [
    {
     "data": {
      "image/png": "[encoded data removed]",
      "text/plain": [
       "<Figure size 432x288 with 1 Axes>"
      ]
     },
     "metadata": {
      "needs_background": "light"
     },
     "output_type": "display_data"
    }
   ],
   "source": [
    "import matplotlib.pyplot as plt\n",
    "%matplotlib inline\n",
    "\n",
    "fig = plt.figure(figsize=(6, 4))\n",
    "\n",
    "epochs_gd = range(len(objvals_gd))\n",
    "epochs_sgd = range(len(objvals_sgd))\n",
    "\n",
    "line0, = plt.plot(epochs_gd, objvals_gd, '--b', LineWidth=4)\n",
    "line1, = plt.plot(epochs_sgd, objvals_sgd, '-r', LineWidth=2)\n",
    "plt.xlabel('Epochs', FontSize=20)\n",
    "plt.ylabel('Objective Value', FontSize=20)\n",
    "plt.xticks(FontSize=16)\n",
    "plt.yticks(FontSize=16)\n",
    "plt.legend([line0, line1], ['GD', 'SGD'], fontsize=20)\n",
    "plt.tight_layout()\n",
    "plt.show()\n",
    "fig.savefig('compare_gd_sgd.pdf', format='pdf', dpi=1200)"
   ]
  },
  {
   "cell_type": "markdown",
   "metadata": {},
   "source": [
    "# 5. Prediction"
   ]
  },
  {
   "cell_type": "code",
   "execution_count": 14,
   "metadata": {},
   "outputs": [],
   "source": [
    "# Predict class label\n",
    "# Inputs:\n",
    "#     w: d-by-1 matrix\n",
    "#     X: m-by-d matrix\n",
    "# Return:\n",
    "#     f: m-by-1 matrix, the predictions\n",
    "def predict(w, X):\n",
    "    xw = numpy.dot(X, w)\n",
    "    f = numpy.sign(xw)\n",
    "    return f"
   ]
  },
  {
   "cell_type": "code",
   "execution_count": 15,
   "metadata": {},
   "outputs": [
    {
     "name": "stdout",
     "output_type": "stream",
     "text": [
      "Training classification error is 0.228125\n"
     ]
    }
   ],
   "source": [
    "# evaluate training error\n",
    "f_train = predict(w, x_train)\n",
    "diff = numpy.abs(f_train - y_train) / 2\n",
    "error_train = numpy.mean(diff)\n",
    "print('Training classification error is ' + str(error_train))"
   ]
  },
  {
   "cell_type": "code",
   "execution_count": 16,
   "metadata": {},
   "outputs": [
    {
     "name": "stdout",
     "output_type": "stream",
     "text": [
      "Test classification error is 0.1875\n"
     ]
    }
   ],
   "source": [
    "# evaluate test error\n",
    "f_test = predict(w, x_test)\n",
    "diff = numpy.abs(f_test - y_test) / 2\n",
    "error_test = numpy.mean(diff)\n",
    "print('Test classification error is ' + str(error_test))"
   ]
  },
  {
   "cell_type": "markdown",
   "metadata": {},
   "source": [
    "# 6. Mini-batch SGD (fill the code)\n",
    "\n"
   ]
  },
  {
   "cell_type": "markdown",
   "metadata": {},
   "source": [
    "## 6.1. Compute the objective $Q_I$ and its gradient using a batch of samples\n",
    "\n",
    "Define $Q_I (w) = \\frac{1}{b} \\sum_{i \\in I} \\log \\Big( 1 + \\exp \\big( - y_i x_i^T w \\big) \\Big) + \\frac{\\lambda}{2} \\| w \\|_2^2 $, where $I$ is a set containing $b$ indices randomly drawn from $\\{ 1, \\cdots , n \\}$ without replacement.\n",
    "\n",
    "The stochastic gradient at $w$ is $g_I = \\frac{\\partial Q_I }{ \\partial w} = \\frac{1}{b} \\sum_{i \\in I} \\frac{- y_i x_i }{1 + \\exp ( y_i x_i^T w)} + \\lambda w$."
   ]
  },
  {
   "cell_type": "code",
   "execution_count": 17,
   "metadata": {},
   "outputs": [],
   "source": [
    "# Calculate the objective Q_I and the gradient of Q_I\n",
    "# Inputs:\n",
    "#     w: d-by-1 matrix\n",
    "#     xi: b-by-d matrix\n",
    "#     yi: b-by-1 matrix\n",
    "#     lam: scalar, the regularization parameter\n",
    "#     b: integer, the batch size\n",
    "# Return:\n",
    "#     obj: scalar, the objective Q_i\n",
    "#     g: d-by-1 matrix, gradient of Q_i\n",
    "def mb_stochastic_objective_gradient(w, xi, yi, lam, b):\n",
    "    yx = numpy.multiply(yi, xi) # b-by-d matrix\n",
    "    yxw = numpy.dot(yx, w) # b-by-1 matrix\n",
    "\n",
    "    # calculate objective function Q_i\n",
    "    loss = numpy.mean(numpy.log(1 + numpy.exp(-yxw))) # scalar\n",
    "    reg = lam / 2 * numpy.sum(w * w) # scalar\n",
    "    obj = loss + reg\n",
    "    \n",
    "    # calculate stochastic gradient\n",
    "    g_loss = -numpy.mean(yx.T / (1 + numpy.exp(yxw.T)), axis=1).reshape(-1, 1) # d-by-1 matrix\n",
    "    g = g_loss + lam * w # d-by-1 matrix\n",
    "\n",
    "    return obj, g"
   ]
  },
  {
   "cell_type": "markdown",
   "metadata": {},
   "source": [
    "## 6.2. Implement mini-batch SGD\n",
    "\n",
    "Hints:\n",
    "1. In every epoch, randomly permute the $n$ samples (just like SGD).\n",
    "2. Each epoch has $\\frac{n}{b}$ iterations. In every iteration, use $b$ samples, and compute the gradient and objective using the ``mb_stochastic_objective_gradient`` function. In the next iteration, use the next $b$ samples, and so on.\n"
   ]
  },
  {
   "cell_type": "code",
   "execution_count": 18,
   "metadata": {},
   "outputs": [],
   "source": [
    "# Mini-Batch SGD for solving logistic regression\n",
    "# Inputs:\n",
    "#     x: n-by-d matrix\n",
    "#     y: n-by-1 matrix\n",
    "#     lam: scalar, the regularization parameter\n",
    "#     b: integer, the batch size\n",
    "#     stepsize: scalar\n",
    "#     max_epoch: integer, the maximal epochs\n",
    "#     w: d-by-1 matrix, initialization of w\n",
    "# Return:\n",
    "#     w: the solution\n",
    "#     objvals: record of each iteration's objective value\n",
    "def mb_sgd(x, y, lam, b, stepsize, max_epoch=100, w=None):\n",
    "    n, d = x.shape\n",
    "    num_batches = n // b\n",
    "    objvals = numpy.zeros(max_epoch) # store the objective values\n",
    "\n",
    "    if w is None:\n",
    "        w = numpy.zeros((d, 1)) # zero initialization\n",
    "\n",
    "    for t in range(max_epoch):\n",
    "        # randomly shuffle the samples\n",
    "        rand_indices = numpy.random.permutation(n)\n",
    "        x_rand = x[rand_indices, :]\n",
    "        y_rand = y[rand_indices, :]\n",
    "\n",
    "        objval = 0 # accumulate the objective values\n",
    "\n",
    "        for i in range(num_batches):\n",
    "            # get the i-th batch\n",
    "            xi = x_rand[i*b : (i+1)*b, :] # b-by-d matrix\n",
    "            yi = y_rand[i*b : (i+1)*b, :] # b-by-1 matrix\n",
    "\n",
    "            obj, g = mb_stochastic_objective_gradient(w, xi, yi, lam, b)\n",
    "            objval += obj\n",
    "            w -= stepsize * g\n",
    "\n",
    "        stepsize *= 0.9 # decrease step size\n",
    "        objval /= num_batches\n",
    "        objvals[t] = objval\n",
    "        print('Objective value at epoch t=' + str(t) + ' is ' + str(objval))\n",
    "\n",
    "    return w, objvals"
   ]
  },
  {
   "cell_type": "markdown",
   "metadata": {},
   "source": [
    "## 6.3. Run MB-SGD"
   ]
  },
  {
   "cell_type": "code",
   "execution_count": 19,
   "metadata": {},
   "outputs": [
    {
     "name": "stdout",
     "output_type": "stream",
     "text": [
      "Objective value at epoch t=0 is 0.5498701431184281\n",
      "Objective value at epoch t=1 is 0.4983630978136331\n",
      "Objective value at epoch t=2 is 0.49101212425141594\n",
      "Objective value at epoch t=3 is 0.48961189110324577\n",
      "Objective value at epoch t=4 is 0.48756207128813667\n",
      "Objective value at epoch t=5 is 0.4879828150727767\n",
      "Objective value at epoch t=6 is 0.48636924301994827\n",
      "Objective value at epoch t=7 is 0.48574907844134635\n",
      "Objective value at epoch t=8 is 0.4859976992728722\n",
      "Objective value at epoch t=9 is 0.48566328206140474\n",
      "Objective value at epoch t=10 is 0.48495670649030415\n",
      "Objective value at epoch t=11 is 0.4848675570114637\n",
      "Objective value at epoch t=12 is 0.4844825380963306\n",
      "Objective value at epoch t=13 is 0.48439217128292034\n",
      "Objective value at epoch t=14 is 0.4843397967037834\n",
      "Objective value at epoch t=15 is 0.48394218425530633\n",
      "Objective value at epoch t=16 is 0.483891191569991\n",
      "Objective value at epoch t=17 is 0.48366038175013604\n",
      "Objective value at epoch t=18 is 0.48339246274665887\n",
      "Objective value at epoch t=19 is 0.4833092170349181\n",
      "Objective value at epoch t=20 is 0.48319142785533575\n",
      "Objective value at epoch t=21 is 0.48309592698373016\n",
      "Objective value at epoch t=22 is 0.4829776052829719\n",
      "Objective value at epoch t=23 is 0.48295498192159503\n",
      "Objective value at epoch t=24 is 0.482847336144665\n",
      "Objective value at epoch t=25 is 0.4827273377861765\n",
      "Objective value at epoch t=26 is 0.48268535282858027\n",
      "Objective value at epoch t=27 is 0.48262227636775223\n",
      "Objective value at epoch t=28 is 0.4825276582236525\n",
      "Objective value at epoch t=29 is 0.4824986126215946\n",
      "Objective value at epoch t=30 is 0.48245236739203756\n",
      "Objective value at epoch t=31 is 0.4824462737919005\n",
      "Objective value at epoch t=32 is 0.4823698982146839\n",
      "Objective value at epoch t=33 is 0.48236275292646597\n",
      "Objective value at epoch t=34 is 0.482304204813758\n",
      "Objective value at epoch t=35 is 0.4822894620202646\n",
      "Objective value at epoch t=36 is 0.48225742870734145\n",
      "Objective value at epoch t=37 is 0.4822495014013578\n",
      "Objective value at epoch t=38 is 0.4822334275956365\n",
      "Objective value at epoch t=39 is 0.4821984612976876\n",
      "Objective value at epoch t=40 is 0.4822036367772823\n",
      "Objective value at epoch t=41 is 0.48217988444478815\n",
      "Objective value at epoch t=42 is 0.4821591795859398\n",
      "Objective value at epoch t=43 is 0.4821591415509444\n",
      "Objective value at epoch t=44 is 0.4821505377619599\n",
      "Objective value at epoch t=45 is 0.4821343506546952\n",
      "Objective value at epoch t=46 is 0.48213097145956263\n",
      "Objective value at epoch t=47 is 0.48211411759894574\n",
      "Objective value at epoch t=48 is 0.48211009894889667\n",
      "Objective value at epoch t=49 is 0.482103592178386\n",
      "Objective value at epoch t=50 is 0.4820954750555935\n",
      "Objective value at epoch t=51 is 0.4820925965556489\n",
      "Objective value at epoch t=52 is 0.4820898661924925\n",
      "Objective value at epoch t=53 is 0.4820849460796728\n",
      "Objective value at epoch t=54 is 0.48208425346424216\n",
      "Objective value at epoch t=55 is 0.48208105518309585\n",
      "Objective value at epoch t=56 is 0.48207690884174276\n",
      "Objective value at epoch t=57 is 0.4820736027405898\n",
      "Objective value at epoch t=58 is 0.4820712029702535\n",
      "Objective value at epoch t=59 is 0.48207051089124386\n",
      "Objective value at epoch t=60 is 0.48206680057505774\n",
      "Objective value at epoch t=61 is 0.48206657403320924\n",
      "Objective value at epoch t=62 is 0.4820642314691099\n",
      "Objective value at epoch t=63 is 0.48206203258705305\n",
      "Objective value at epoch t=64 is 0.4820619664652087\n",
      "Objective value at epoch t=65 is 0.4820608922139815\n",
      "Objective value at epoch t=66 is 0.48205879473858504\n",
      "Objective value at epoch t=67 is 0.48205785563699716\n",
      "Objective value at epoch t=68 is 0.48205759825593164\n",
      "Objective value at epoch t=69 is 0.4820565537674485\n",
      "Objective value at epoch t=70 is 0.48205558586534414\n",
      "Objective value at epoch t=71 is 0.4820551086170456\n",
      "Objective value at epoch t=72 is 0.482054614605668\n",
      "Objective value at epoch t=73 is 0.48205429922336407\n",
      "Objective value at epoch t=74 is 0.4820539511884914\n",
      "Objective value at epoch t=75 is 0.4820533712424421\n",
      "Objective value at epoch t=76 is 0.48205275642843615\n",
      "Objective value at epoch t=77 is 0.4820525405755175\n",
      "Objective value at epoch t=78 is 0.48205250304586933\n",
      "Objective value at epoch t=79 is 0.48205213029372923\n",
      "Objective value at epoch t=80 is 0.48205198113884773\n",
      "Objective value at epoch t=81 is 0.48205148827282696\n",
      "Objective value at epoch t=82 is 0.4820515585010682\n",
      "Objective value at epoch t=83 is 0.4820512684919519\n",
      "Objective value at epoch t=84 is 0.4820510655405962\n",
      "Objective value at epoch t=85 is 0.4820510617703637\n",
      "Objective value at epoch t=86 is 0.48205094355736067\n",
      "Objective value at epoch t=87 is 0.48205066430562227\n",
      "Objective value at epoch t=88 is 0.48205057256184636\n",
      "Objective value at epoch t=89 is 0.4820505220690774\n",
      "Objective value at epoch t=90 is 0.48205048355421454\n",
      "Objective value at epoch t=91 is 0.4820503906895623\n",
      "Objective value at epoch t=92 is 0.482050249235796\n",
      "Objective value at epoch t=93 is 0.48205022689455895\n",
      "Objective value at epoch t=94 is 0.48205012953081294\n",
      "Objective value at epoch t=95 is 0.4820501058836625\n",
      "Objective value at epoch t=96 is 0.4820500667835469\n",
      "Objective value at epoch t=97 is 0.48205002174739164\n",
      "Objective value at epoch t=98 is 0.4820499728746288\n",
      "Objective value at epoch t=99 is 0.4820499590104587\n"
     ]
    }
   ],
   "source": [
    "# MB-SGD with batch size b=8\n",
    "lam = 1E-6 # do not change\n",
    "b = 8 # do not change\n",
    "stepsize = 0.101 # you must tune this parameter \n",
    "\n",
    "w, objvals_mbsgd8 = mb_sgd(x_train, y_train, lam, b, stepsize)"
   ]
  },
  {
   "cell_type": "code",
   "execution_count": 20,
   "metadata": {},
   "outputs": [
    {
     "name": "stdout",
     "output_type": "stream",
     "text": [
      "Objective value at epoch t=0 is 0.5860582340614531\n",
      "Objective value at epoch t=1 is 0.5116061923562236\n",
      "Objective value at epoch t=2 is 0.496713210780389\n",
      "Objective value at epoch t=3 is 0.49236935381849517\n",
      "Objective value at epoch t=4 is 0.4889072384621616\n",
      "Objective value at epoch t=5 is 0.48722822907174096\n",
      "Objective value at epoch t=6 is 0.4859178730881233\n",
      "Objective value at epoch t=7 is 0.4854397482642244\n",
      "Objective value at epoch t=8 is 0.4845753884046432\n",
      "Objective value at epoch t=9 is 0.4844826724558959\n",
      "Objective value at epoch t=10 is 0.4838879071263765\n",
      "Objective value at epoch t=11 is 0.484001787479038\n",
      "Objective value at epoch t=12 is 0.4835528563797702\n",
      "Objective value at epoch t=13 is 0.4832848855177409\n",
      "Objective value at epoch t=14 is 0.48314160883521307\n",
      "Objective value at epoch t=15 is 0.48304243392976504\n",
      "Objective value at epoch t=16 is 0.48306819696511705\n",
      "Objective value at epoch t=17 is 0.48279133105706695\n",
      "Objective value at epoch t=18 is 0.48308201125455613\n",
      "Objective value at epoch t=19 is 0.4828342262130542\n",
      "Objective value at epoch t=20 is 0.48282861520030573\n",
      "Objective value at epoch t=21 is 0.4826772138892455\n",
      "Objective value at epoch t=22 is 0.48257315558277325\n",
      "Objective value at epoch t=23 is 0.48260692822756734\n",
      "Objective value at epoch t=24 is 0.48254817299056985\n",
      "Objective value at epoch t=25 is 0.4824121286821873\n",
      "Objective value at epoch t=26 is 0.48234431563043384\n",
      "Objective value at epoch t=27 is 0.48236307807988765\n",
      "Objective value at epoch t=28 is 0.48234062981542936\n",
      "Objective value at epoch t=29 is 0.48229535927145895\n",
      "Objective value at epoch t=30 is 0.48229776229024834\n",
      "Objective value at epoch t=31 is 0.48226081746265115\n",
      "Objective value at epoch t=32 is 0.48225296969964954\n",
      "Objective value at epoch t=33 is 0.48221220523689423\n",
      "Objective value at epoch t=34 is 0.4822445078616804\n",
      "Objective value at epoch t=35 is 0.48223490292191346\n",
      "Objective value at epoch t=36 is 0.48222594081810655\n",
      "Objective value at epoch t=37 is 0.48220620656068497\n",
      "Objective value at epoch t=38 is 0.4821943696259992\n",
      "Objective value at epoch t=39 is 0.48218088335113973\n",
      "Objective value at epoch t=40 is 0.482159525558804\n",
      "Objective value at epoch t=41 is 0.48216516286282074\n",
      "Objective value at epoch t=42 is 0.4821552874443493\n",
      "Objective value at epoch t=43 is 0.4821491041090857\n",
      "Objective value at epoch t=44 is 0.48216444932896\n",
      "Objective value at epoch t=45 is 0.4821456241590334\n",
      "Objective value at epoch t=46 is 0.48214167621855164\n",
      "Objective value at epoch t=47 is 0.4821406602180131\n",
      "Objective value at epoch t=48 is 0.4821393895800846\n",
      "Objective value at epoch t=49 is 0.4821295952152596\n",
      "Objective value at epoch t=50 is 0.48213051078470226\n",
      "Objective value at epoch t=51 is 0.48212812902411234\n",
      "Objective value at epoch t=52 is 0.4821325464534782\n",
      "Objective value at epoch t=53 is 0.48212585161906746\n",
      "Objective value at epoch t=54 is 0.4821246666371519\n",
      "Objective value at epoch t=55 is 0.48211901885462505\n",
      "Objective value at epoch t=56 is 0.4821188501710781\n",
      "Objective value at epoch t=57 is 0.48211826708397226\n",
      "Objective value at epoch t=58 is 0.4821178524888265\n",
      "Objective value at epoch t=59 is 0.48211482782631015\n",
      "Objective value at epoch t=60 is 0.482115125782829\n",
      "Objective value at epoch t=61 is 0.4821145016385728\n",
      "Objective value at epoch t=62 is 0.48211537312216757\n",
      "Objective value at epoch t=63 is 0.4821124859862837\n",
      "Objective value at epoch t=64 is 0.4821124391177488\n",
      "Objective value at epoch t=65 is 0.48211227208011387\n",
      "Objective value at epoch t=66 is 0.48211281441402115\n",
      "Objective value at epoch t=67 is 0.48211173989188066\n",
      "Objective value at epoch t=68 is 0.4821113245952133\n",
      "Objective value at epoch t=69 is 0.4821105835550279\n",
      "Objective value at epoch t=70 is 0.4821109738504741\n",
      "Objective value at epoch t=71 is 0.4821100968077948\n",
      "Objective value at epoch t=72 is 0.4821098315125056\n",
      "Objective value at epoch t=73 is 0.4821100836515117\n",
      "Objective value at epoch t=74 is 0.48210915404971644\n",
      "Objective value at epoch t=75 is 0.48210895546070703\n",
      "Objective value at epoch t=76 is 0.48210902465413213\n",
      "Objective value at epoch t=77 is 0.4821087035081041\n",
      "Objective value at epoch t=78 is 0.48210840375821506\n",
      "Objective value at epoch t=79 is 0.482108642811523\n",
      "Objective value at epoch t=80 is 0.4821081141584579\n",
      "Objective value at epoch t=81 is 0.4821082528700086\n",
      "Objective value at epoch t=82 is 0.48210827178828025\n",
      "Objective value at epoch t=83 is 0.4821080924027119\n",
      "Objective value at epoch t=84 is 0.4821081388604124\n",
      "Objective value at epoch t=85 is 0.482107917542755\n",
      "Objective value at epoch t=86 is 0.4821078829330695\n",
      "Objective value at epoch t=87 is 0.4821078930236357\n",
      "Objective value at epoch t=88 is 0.4821078191680389\n",
      "Objective value at epoch t=89 is 0.4821077791740362\n",
      "Objective value at epoch t=90 is 0.48210768165263806\n",
      "Objective value at epoch t=91 is 0.48210762435473953\n",
      "Objective value at epoch t=92 is 0.48210761398745455\n",
      "Objective value at epoch t=93 is 0.4821076584459024\n",
      "Objective value at epoch t=94 is 0.4821076167510438\n",
      "Objective value at epoch t=95 is 0.4821075799938167\n",
      "Objective value at epoch t=96 is 0.4821075941229049\n",
      "Objective value at epoch t=97 is 0.48210756348253125\n",
      "Objective value at epoch t=98 is 0.48210750163938376\n",
      "Objective value at epoch t=99 is 0.4821074848850933\n"
     ]
    }
   ],
   "source": [
    "# MB-SGD with batch size b=64\n",
    "lam = 1E-6 # do not change\n",
    "b = 64 # do not change\n",
    "stepsize = 0.4 # you must tune this parameter\n",
    "\n",
    "w, objvals_mbsgd64 = mb_sgd(x_train, y_train, lam, b, stepsize)"
   ]
  },
  {
   "cell_type": "markdown",
   "metadata": {},
   "source": [
    "# 7. Plot and compare GD, SGD, and MB-SGD"
   ]
  },
  {
   "cell_type": "markdown",
   "metadata": {},
   "source": [
    "You are required to compare the following algorithms:\n",
    "\n",
    "- Gradient descent (GD)\n",
    "\n",
    "- SGD\n",
    "\n",
    "- MB-SGD with b=8\n",
    "\n",
    "- MB-SGD with b=64\n",
    "\n",
    "Follow the code in Section 4 to plot ```objective function value``` against ```epochs```. There should be four curves in the plot; each curve corresponds to one algorithm."
   ]
  },
  {
   "cell_type": "code",
   "execution_count": 21,
   "metadata": {},
   "outputs": [
    {
     "data": {
      "image/png": "[encoded data removed]",
      "text/plain": [
       "<Figure size 432x288 with 1 Axes>"
      ]
     },
     "metadata": {
      "needs_background": "light"
     },
     "output_type": "display_data"
    }
   ],
   "source": [
    "# plot the 4 curves:\n",
    "fig = plt.figure(figsize=(6, 4))\n",
    "\n",
    "epochs_gd = range(len(objvals_gd))\n",
    "epochs_sgd = range(len(objvals_sgd))\n",
    "epochs_mbsgd8 = range(len(objvals_mbsgd8))\n",
    "epochs_mbsgd64 = range(len(objvals_mbsgd64))\n",
    "\n",
    "line0, = plt.plot(epochs_gd, objvals_gd, '--b', LineWidth=4)\n",
    "line1, = plt.plot(epochs_sgd, objvals_sgd, '-r', LineWidth=2)\n",
    "line2, = plt.plot(epochs_mbsgd8, objvals_mbsgd8, '-g', LineWidth=2)\n",
    "line3, = plt.plot(epochs_mbsgd64, objvals_mbsgd64, '-k', LineWidth=2)\n",
    "\n",
    "plt.xlabel('Epochs', fontsize=20)\n",
    "plt.ylabel('Objective Value', fontsize=20)\n",
    "plt.xticks(fontsize=16)\n",
    "plt.yticks(fontsize=16)\n",
    "plt.legend([line0, line1, line2, line3], ['GD', 'SGD', 'MB-SGD (b=8)', 'MB-SGD (b=64)'], fontsize=20)\n",
    "plt.tight_layout()\n",
    "plt.show()\n",
    "fig.savefig('compare_gd_sgd_mbsgd.pdf', format='pdf', dpi=1200)"
   ]
  }
 ],
 "metadata": {
  "kernelspec": {
   "display_name": "Python 3 (ipykernel)",
   "language": "python",
   "name": "python3"
  },
  "language_info": {
   "codemirror_mode": {
    "name": "ipython",
    "version": 3
   },
   "file_extension": ".py",
   "mimetype": "text/x-python",
   "name": "python",
   "nbconvert_exporter": "python",
   "pygments_lexer": "ipython3",
   "version": "3.11.4"
  }
 },
 "nbformat": 4,
 "nbformat_minor": 2
}

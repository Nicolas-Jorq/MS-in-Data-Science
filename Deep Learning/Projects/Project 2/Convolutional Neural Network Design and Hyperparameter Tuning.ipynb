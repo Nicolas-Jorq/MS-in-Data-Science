{
 "cells": [
  {
   "cell_type": "markdown",
   "metadata": {},
   "source": [
    "# Programming Assignment: Build a CNN for image recognition.\n",
    "\n",
    "### Name: Nicolas Jorquera\n"
   ]
  },
  {
   "cell_type": "markdown",
   "metadata": {},
   "source": [
    "***I built a Convolutional Neural Network (CNN) from scratch for image recognition. The goal was not just to construct the network, but also to fine-tune the architecture and optimize hyperparameters to achieve high accuracy. I incorporated advanced features like Batch Normalization between Conv and activation layers and utilized Dropout for regularization. I was particularly focused on layer-by-layer construction and didn't rely on pre-built architectures. This experience gave me a deep understanding of how to manually optimize neural networks for specific tasks.***"
   ]
  },
  {
   "cell_type": "markdown",
   "metadata": {},
   "source": [
    "## 1. Data preparation"
   ]
  },
  {
   "cell_type": "markdown",
   "metadata": {},
   "source": [
    "### 1.1. Load data\n"
   ]
  },
  {
   "cell_type": "code",
   "execution_count": 3,
   "metadata": {},
   "outputs": [
    {
     "name": "stdout",
     "output_type": "stream",
     "text": [
      "shape of x_train: (50000, 32, 32, 3)\n",
      "shape of y_train: (50000, 1)\n",
      "shape of x_test: (10000, 32, 32, 3)\n",
      "shape of y_test: (10000, 1)\n",
      "number of classes: 10\n"
     ]
    }
   ],
   "source": [
    "from tensorflow.keras.datasets import cifar10\n",
    "import numpy as np\n",
    "import numpy\n",
    "\n",
    "(x_train, y_train), (x_test, y_test) = cifar10.load_data()\n",
    "\n",
    "print('shape of x_train: ' + str(x_train.shape))\n",
    "print('shape of y_train: ' + str(y_train.shape))\n",
    "print('shape of x_test: ' + str(x_test.shape))\n",
    "print('shape of y_test: ' + str(y_test.shape))\n",
    "print('number of classes: ' + str(numpy.max(y_train) - numpy.min(y_train) + 1))"
   ]
  },
  {
   "cell_type": "markdown",
   "metadata": {},
   "source": [
    "### 1.2. One-hot encode the labels\n",
    "\n",
    "In the input, a label is a scalar in $\\{0, 1, \\cdots , 9\\}$. One-hot encode transform such a scalar to a $10$-dim vector. E.g., a scalar ```y_train[j]=3``` is transformed to the vector ```y_train_vec[j]=[0, 0, 0, 1, 0, 0, 0, 0, 0, 0]```.\n",
    "\n",
    "1. Define a function ```to_one_hot``` that transforms an $n\\times 1$ array to a $n\\times 10$ matrix.\n",
    "\n",
    "2. Apply the function to ```y_train``` and ```y_test```."
   ]
  },
  {
   "cell_type": "code",
   "execution_count": 4,
   "metadata": {},
   "outputs": [
    {
     "name": "stdout",
     "output_type": "stream",
     "text": [
      "Shape of y_train_vec: (50000, 10)\n",
      "Shape of y_test_vec: (10000, 10)\n",
      "[6]\n",
      "[0. 0. 0. 0. 0. 0. 1. 0. 0. 0.]\n"
     ]
    }
   ],
   "source": [
    "def to_one_hot(y, num_class=10):\n",
    "    n = len(y)\n",
    "    one_hot = np.zeros((n, num_class))\n",
    "    one_hot[np.arange(n), y[:, 0]] = 1\n",
    "    return one_hot\n",
    "\n",
    "y_train_vec = to_one_hot(y_train)\n",
    "y_test_vec = to_one_hot(y_test)\n",
    "\n",
    "print('Shape of y_train_vec: ' + str(y_train_vec.shape))\n",
    "print('Shape of y_test_vec: ' + str(y_test_vec.shape))\n",
    "\n",
    "print(y_train[0])\n",
    "print(y_train_vec[0])"
   ]
  },
  {
   "cell_type": "markdown",
   "metadata": {},
   "source": [
    "#### Remark: the outputs should be\n",
    "* Shape of y_train_vec: (50000, 10)\n",
    "* Shape of y_test_vec: (10000, 10)\n",
    "* [6]\n",
    "* [0. 0. 0. 0. 0. 0. 1. 0. 0. 0.]"
   ]
  },
  {
   "cell_type": "markdown",
   "metadata": {},
   "source": [
    "### 1.3. Randomly partition the training set to training and validation sets\n",
    "\n",
    "Randomly partition the 50K training samples to 2 sets:\n",
    "* a training set containing 40K samples\n",
    "* a validation set containing 10K samples\n"
   ]
  },
  {
   "cell_type": "code",
   "execution_count": 6,
   "metadata": {},
   "outputs": [
    {
     "name": "stdout",
     "output_type": "stream",
     "text": [
      "Shape of x_tr: (40000, 32, 32, 3)\n",
      "Shape of y_tr: (40000, 10)\n",
      "Shape of x_val: (10000, 32, 32, 3)\n",
      "Shape of y_val: (10000, 10)\n"
     ]
    }
   ],
   "source": [
    "rand_indices = numpy.random.permutation(50000)\n",
    "train_indices = rand_indices[0:40000]\n",
    "valid_indices = rand_indices[40000:50000]\n",
    "\n",
    "x_val = x_train[valid_indices, :]\n",
    "y_val = y_train_vec[valid_indices, :]\n",
    "\n",
    "x_tr = x_train[train_indices, :]\n",
    "y_tr = y_train_vec[train_indices, :]\n",
    "\n",
    "print('Shape of x_tr: ' + str(x_tr.shape))\n",
    "print('Shape of y_tr: ' + str(y_tr.shape))\n",
    "print('Shape of x_val: ' + str(x_val.shape))\n",
    "print('Shape of y_val: ' + str(y_val.shape))"
   ]
  },
  {
   "cell_type": "markdown",
   "metadata": {},
   "source": [
    "## 2. Build a CNN and tune its hyper-parameters\n",
    "\n",
    "1. Build a convolutional neural network model\n",
    "2. Use the validation data to tune the hyper-parameters (e.g., network structure, and optimization algorithm)\n",
    "    * Do NOT use test data for hyper-parameter tuning!!!\n",
    "3. Try to achieve a validation accuracy as high as possible."
   ]
  },
  {
   "cell_type": "markdown",
   "metadata": {},
   "source": [
    "### Explanation:\n",
    "\n",
    "#### Convolutional Layers (Conv2D):\n",
    "This function extracts spatial features and patterns from the images. Here I utilized Three convolutional layers with 32, 64, and 128 filters respectively, using 3×3 kernel sizes. Increasing the depth of the network, should enable it to learn more complex features. The hierarchical pattern learning helps in detecting intricate details in images.\n",
    "\n",
    "#### Batch Normalization Layers (BatchNormalization):\n",
    "This function normalizes the output of the previous layer, accelerating training and improving generalization. Here it was applied after each convolutional layer, before activation. It helps in faster convergence and mitigates the risk of vanishing/exploding gradients; making the model more stable.\n",
    "\n",
    "#### Activation Layers (Activation):\n",
    "This function introduces non-linearity into the network. Here the ReLU (Rectified Linear Unit) activation is used for all hidden layers. It enables the network to model complex non-linear relationships.\n",
    "\n",
    "#### Max Pooling Layers (MaxPooling2D):\n",
    "This function reduces the spatial dimensions, emphasizing the most important features. Here I utilized a 2×2 pooling size, applied after each convolutional layer. It should allow to scale down he feature maps, making the network more robust to variations in the object's appearance.\n",
    "\n",
    "#### Dropout Layers (Dropout):\n",
    "This function is a regularization technique that randomly sets a fraction of the input units to 0 during training. I chose dropout rates of 0.25 for convolutional layers and 0.5 for the dense layer. It should help prevent overfitting by ensuring that the network does not rely too heavily on any specific feature.\n",
    "\n",
    "#### Flatten Layer (Flatten):\n",
    "This function flattens the 2D matrix data into a vector to feed into the dense layers. Here it is applied once before the dense layers. It transforms spatial features into a form suitable for classification; and is necessary between convolutional and dense layers.\n",
    "\n",
    "#### Dense Layers (Dense):\n",
    "Here I utilized one hidden dense layer with 512 units and an output layer with 10 units (for 10 classes). The hidden dense layer further processes the features, and the output layer provides class probabilities."
   ]
  },
  {
   "cell_type": "code",
   "execution_count": 7,
   "metadata": {},
   "outputs": [
    {
     "name": "stdout",
     "output_type": "stream",
     "text": [
      "Model: \"sequential\"\n",
      "_________________________________________________________________\n",
      " Layer (type)                Output Shape              Param #   \n",
      "=================================================================\n",
      " conv2d (Conv2D)             (None, 32, 32, 32)        896       \n",
      "                                                                 \n",
      " batch_normalization (Batch  (None, 32, 32, 32)        128       \n",
      " Normalization)                                                  \n",
      "                                                                 \n",
      " activation (Activation)     (None, 32, 32, 32)        0         \n",
      "                                                                 \n",
      " max_pooling2d (MaxPooling2  (None, 16, 16, 32)        0         \n",
      " D)                                                              \n",
      "                                                                 \n",
      " dropout (Dropout)           (None, 16, 16, 32)        0         \n",
      "                                                                 \n",
      " conv2d_1 (Conv2D)           (None, 16, 16, 64)        18496     \n",
      "                                                                 \n",
      " batch_normalization_1 (Bat  (None, 16, 16, 64)        256       \n",
      " chNormalization)                                                \n",
      "                                                                 \n",
      " activation_1 (Activation)   (None, 16, 16, 64)        0         \n",
      "                                                                 \n",
      " max_pooling2d_1 (MaxPoolin  (None, 8, 8, 64)          0         \n",
      " g2D)                                                            \n",
      "                                                                 \n",
      " dropout_1 (Dropout)         (None, 8, 8, 64)          0         \n",
      "                                                                 \n",
      " conv2d_2 (Conv2D)           (None, 8, 8, 128)         73856     \n",
      "                                                                 \n",
      " batch_normalization_2 (Bat  (None, 8, 8, 128)         512       \n",
      " chNormalization)                                                \n",
      "                                                                 \n",
      " activation_2 (Activation)   (None, 8, 8, 128)         0         \n",
      "                                                                 \n",
      " max_pooling2d_2 (MaxPoolin  (None, 4, 4, 128)         0         \n",
      " g2D)                                                            \n",
      "                                                                 \n",
      " dropout_2 (Dropout)         (None, 4, 4, 128)         0         \n",
      "                                                                 \n",
      " flatten (Flatten)           (None, 2048)              0         \n",
      "                                                                 \n",
      " dense (Dense)               (None, 512)               1049088   \n",
      "                                                                 \n",
      " dropout_3 (Dropout)         (None, 512)               0         \n",
      "                                                                 \n",
      " dense_1 (Dense)             (None, 10)                5130      \n",
      "                                                                 \n",
      "=================================================================\n",
      "Total params: 1148362 (4.38 MB)\n",
      "Trainable params: 1147914 (4.38 MB)\n",
      "Non-trainable params: 448 (1.75 KB)\n",
      "_________________________________________________________________\n"
     ]
    }
   ],
   "source": [
    "from keras.layers import Conv2D, MaxPooling2D, Flatten, Dense, Dropout, BatchNormalization, Activation\n",
    "from keras.models import Sequential\n",
    "\n",
    "model = Sequential()\n",
    "model.add(Conv2D(32, (3, 3), padding='same', input_shape=(32, 32, 3)))\n",
    "model.add(BatchNormalization())\n",
    "model.add(Activation('relu'))\n",
    "model.add(MaxPooling2D((2, 2)))\n",
    "model.add(Dropout(0.25))\n",
    "\n",
    "model.add(Conv2D(64, (3, 3), padding='s63ame'))\n",
    "model.add(BatchNormalization())\n",
    "model.add(Activation('relu'))\n",
    "model.add(MaxPooling2D((2, 2)))\n",
    "model.add(Dropout(0.25))\n",
    "\n",
    "model.add(Conv2D(128, (3, 3), padding='same'))\n",
    "model.add(BatchNormalization())\n",
    "model.add(Activation('relu'))\n",
    "model.add(MaxPooling2D((2, 2)))\n",
    "model.add(Dropout(0.25))\n",
    "\n",
    "model.add(Flatten())\n",
    "model.add(Dense(512, activation='relu'))\n",
    "model.add(Dropout(0.5))\n",
    "model.add(Dense(10, activation='softmax'))\n",
    "\n",
    "model.summary()"
   ]
  },
  {
   "cell_type": "code",
   "execution_count": 8,
   "metadata": {},
   "outputs": [
    {
     "name": "stderr",
     "output_type": "stream",
     "text": [
      "WARNING:absl:`lr` is deprecated in Keras optimizer, please use `learning_rate` or use the legacy optimizer, e.g.,tf.keras.optimizers.legacy.RMSprop.\n"
     ]
    }
   ],
   "source": [
    "from keras import optimizers\n",
    "\n",
    "learning_rate = 1E-4 # to be tuned!\n",
    "\n",
    "model.compile(loss='categorical_crossentropy',\n",
    "              optimizer=optimizers.RMSprop(lr=learning_rate),\n",
    "              metrics=['acc'])"
   ]
  },
  {
   "cell_type": "code",
   "execution_count": 15,
   "metadata": {},
   "outputs": [
    {
     "name": "stdout",
     "output_type": "stream",
     "text": [
      "Epoch 1/10\n",
      "1250/1250 [==============================] - 62s 49ms/step - loss: 1.7538 - acc: 0.3759 - val_loss: 1.4084 - val_acc: 0.5001\n",
      "Epoch 2/10\n",
      "1250/1250 [==============================] - 66s 53ms/step - loss: 1.4099 - acc: 0.4964 - val_loss: 1.2614 - val_acc: 0.5536\n",
      "Epoch 3/10\n",
      "1250/1250 [==============================] - 60s 48ms/step - loss: 1.2707 - acc: 0.5522 - val_loss: 1.3035 - val_acc: 0.5619\n",
      "Epoch 4/10\n",
      "1250/1250 [==============================] - 68s 55ms/step - loss: 1.1766 - acc: 0.5936 - val_loss: 1.2018 - val_acc: 0.5757\n",
      "Epoch 5/10\n",
      "1250/1250 [==============================] - 65s 52ms/step - loss: 1.0954 - acc: 0.6253 - val_loss: 1.0887 - val_acc: 0.6168\n",
      "Epoch 6/10\n",
      "1250/1250 [==============================] - 64s 51ms/step - loss: 1.0515 - acc: 0.6444 - val_loss: 1.0054 - val_acc: 0.6616\n",
      "Epoch 7/10\n",
      "1250/1250 [==============================] - 61s 49ms/step - loss: 1.0261 - acc: 0.6597 - val_loss: 0.8781 - val_acc: 0.7068\n",
      "Epoch 8/10\n",
      "1250/1250 [==============================] - 61s 49ms/step - loss: 0.9984 - acc: 0.6671 - val_loss: 1.1926 - val_acc: 0.6250\n",
      "Epoch 9/10\n",
      "1250/1250 [==============================] - 65s 52ms/step - loss: 0.9826 - acc: 0.6740 - val_loss: 0.8734 - val_acc: 0.7130\n",
      "Epoch 10/10\n",
      "1250/1250 [==============================] - 59s 47ms/step - loss: 0.9716 - acc: 0.6841 - val_loss: 0.9477 - val_acc: 0.6876\n"
     ]
    }
   ],
   "source": [
    "history = model.fit(x_tr, y_tr, batch_size=32, epochs=10, validation_data=(x_val, y_val))"
   ]
  },
  {
   "cell_type": "code",
   "execution_count": 16,
   "metadata": {},
   "outputs": [
    {
     "data": {
      "image/png": "[encoded data removed]",
      "text/plain": [
       "<Figure size 640x480 with 1 Axes>"
      ]
     },
     "metadata": {},
     "output_type": "display_data"
    }
   ],
   "source": [
    "import matplotlib.pyplot as plt\n",
    "%matplotlib inline\n",
    "\n",
    "acc = history.history['acc']\n",
    "val_acc = history.history['val_acc']\n",
    "\n",
    "epochs = range(len(acc))\n",
    "\n",
    "plt.plot(epochs, acc, 'bo', label='Training acc')\n",
    "plt.plot(epochs, val_acc, 'r', label='Validation acc')\n",
    "plt.xlabel('Epochs')\n",
    "plt.ylabel('Accuracy')\n",
    "plt.legend()\n",
    "plt.show()"
   ]
  },
  {
   "cell_type": "markdown",
   "metadata": {},
   "source": [
    "## 3. Train (again) and evaluate the model\n",
    "\n",
    "- To this end, you have found the \"best\" hyper-parameters. \n",
    "- Now, fix the hyper-parameters and train the network on the entire training set (all the 50K training samples)\n",
    "- Evaluate your model on the test set."
   ]
  },
  {
   "cell_type": "markdown",
   "metadata": {},
   "source": [
    "### 3.1. Train the model on the entire training set\n",
    "\n",
    "Why? Previously, you used 40K samples for training; you wasted 10K samples for the sake of hyper-parameter tuning. Now you already know the hyper-parameters, so why not using all the 50K samples for training?"
   ]
  },
  {
   "cell_type": "code",
   "execution_count": 11,
   "metadata": {},
   "outputs": [
    {
     "name": "stdout",
     "output_type": "stream",
     "text": [
      "Epoch 1/10\n",
      "1563/1563 [==============================] - 57s 36ms/step - loss: 0.9982 - acc: 0.6702 - val_loss: 1.0242 - val_acc: 0.6528\n",
      "Epoch 2/10\n",
      "1563/1563 [==============================] - 58s 37ms/step - loss: 0.9848 - acc: 0.6761 - val_loss: 0.9541 - val_acc: 0.6798\n",
      "Epoch 3/10\n",
      "1563/1563 [==============================] - 58s 37ms/step - loss: 0.9785 - acc: 0.6809 - val_loss: 0.9046 - val_acc: 0.6831\n",
      "Epoch 4/10\n",
      "1563/1563 [==============================] - 64s 41ms/step - loss: 0.9759 - acc: 0.6817 - val_loss: 1.1605 - val_acc: 0.6409\n",
      "Epoch 5/10\n",
      "1563/1563 [==============================] - 65s 42ms/step - loss: 0.9848 - acc: 0.6844 - val_loss: 0.7799 - val_acc: 0.7435\n",
      "Epoch 6/10\n",
      "1563/1563 [==============================] - 64s 41ms/step - loss: 0.9914 - acc: 0.6798 - val_loss: 0.8538 - val_acc: 0.7409\n",
      "Epoch 7/10\n",
      "1563/1563 [==============================] - 61s 39ms/step - loss: 0.9926 - acc: 0.6817 - val_loss: 1.0052 - val_acc: 0.6875\n",
      "Epoch 8/10\n",
      "1563/1563 [==============================] - 66s 42ms/step - loss: 0.9899 - acc: 0.6812 - val_loss: 1.2172 - val_acc: 0.6300\n",
      "Epoch 9/10\n",
      "1563/1563 [==============================] - 62s 40ms/step - loss: 0.9841 - acc: 0.6847 - val_loss: 0.8509 - val_acc: 0.7364\n",
      "Epoch 10/10\n",
      "1563/1563 [==============================] - 63s 40ms/step - loss: 0.9915 - acc: 0.6812 - val_loss: 1.0470 - val_acc: 0.6687\n"
     ]
    }
   ],
   "source": [
    "history = model.fit(x_train, y_train_vec, batch_size=32, epochs=10, validation_data=(x_val, y_val))"
   ]
  },
  {
   "cell_type": "markdown",
   "metadata": {},
   "source": [
    "### 3.2. Evaluate the model on the test set\n",
    "\n",
    "Do NOT used the test set until now. Make sure that your model parameters and hyper-parameters are independent of the test set."
   ]
  },
  {
   "cell_type": "code",
   "execution_count": 12,
   "metadata": {},
   "outputs": [
    {
     "name": "stdout",
     "output_type": "stream",
     "text": [
      "313/313 [==============================] - 3s 8ms/step - loss: 1.1145 - acc: 0.6394\n",
      "loss = 1.114530324935913\n",
      "accuracy = 0.6394000053405762\n"
     ]
    }
   ],
   "source": [
    "loss_and_acc = model.evaluate(x_test, y_test_vec)\n",
    "print('loss = ' + str(loss_and_acc[0]))\n",
    "print('accuracy = ' + str(loss_and_acc[1]))"
   ]
  },
  {
   "cell_type": "markdown",
   "metadata": {},
   "source": [
    "### 4. Experimenting on Improving the Model further using more Advanced Techniques:"
   ]
  },
  {
   "cell_type": "code",
   "execution_count": 13,
   "metadata": {},
   "outputs": [],
   "source": [
    "from keras.optimizers import Adam\n",
    "from keras.preprocessing.image import ImageDataGenerator\n",
    "from keras.callbacks import ReduceLROnPlateau\n",
    "\n",
    "# Data Augmentation\n",
    "datagen = ImageDataGenerator(\n",
    "    rotation_range=15,\n",
    "    rescale=1./255,\n",
    "    shear_range=0.1,\n",
    "    zoom_range=0.2,\n",
    "    horizontal_flip=True,\n",
    "    width_shift_range=0.1,\n",
    "    height_shift_range=0.1\n",
    ")"
   ]
  },
  {
   "cell_type": "code",
   "execution_count": 22,
   "metadata": {},
   "outputs": [
    {
     "name": "stdout",
     "output_type": "stream",
     "text": [
      "Model: \"sequential_3\"\n",
      "_________________________________________________________________\n",
      " Layer (type)                Output Shape              Param #   \n",
      "=================================================================\n",
      " conv2d_15 (Conv2D)          (None, 32, 32, 32)        896       \n",
      "                                                                 \n",
      " batch_normalization_15 (Ba  (None, 32, 32, 32)        128       \n",
      " tchNormalization)                                               \n",
      "                                                                 \n",
      " activation_15 (Activation)  (None, 32, 32, 32)        0         \n",
      "                                                                 \n",
      " conv2d_16 (Conv2D)          (None, 32, 32, 32)        9248      \n",
      "                                                                 \n",
      " batch_normalization_16 (Ba  (None, 32, 32, 32)        128       \n",
      " tchNormalization)                                               \n",
      "                                                                 \n",
      " activation_16 (Activation)  (None, 32, 32, 32)        0         \n",
      "                                                                 \n",
      " max_pooling2d_9 (MaxPoolin  (None, 16, 16, 32)        0         \n",
      " g2D)                                                            \n",
      "                                                                 \n",
      " dropout_12 (Dropout)        (None, 16, 16, 32)        0         \n",
      "                                                                 \n",
      " conv2d_17 (Conv2D)          (None, 16, 16, 64)        18496     \n",
      "                                                                 \n",
      " batch_normalization_17 (Ba  (None, 16, 16, 64)        256       \n",
      " tchNormalization)                                               \n",
      "                                                                 \n",
      " activation_17 (Activation)  (None, 16, 16, 64)        0         \n",
      "                                                                 \n",
      " conv2d_18 (Conv2D)          (None, 16, 16, 64)        36928     \n",
      "                                                                 \n",
      " batch_normalization_18 (Ba  (None, 16, 16, 64)        256       \n",
      " tchNormalization)                                               \n",
      "                                                                 \n",
      " activation_18 (Activation)  (None, 16, 16, 64)        0         \n",
      "                                                                 \n",
      " max_pooling2d_10 (MaxPooli  (None, 8, 8, 64)          0         \n",
      " ng2D)                                                           \n",
      "                                                                 \n",
      " dropout_13 (Dropout)        (None, 8, 8, 64)          0         \n",
      "                                                                 \n",
      " conv2d_19 (Conv2D)          (None, 8, 8, 128)         73856     \n",
      "                                                                 \n",
      " batch_normalization_19 (Ba  (None, 8, 8, 128)         512       \n",
      " tchNormalization)                                               \n",
      "                                                                 \n",
      " activation_19 (Activation)  (None, 8, 8, 128)         0         \n",
      "                                                                 \n",
      " conv2d_20 (Conv2D)          (None, 8, 8, 128)         147584    \n",
      "                                                                 \n",
      " batch_normalization_20 (Ba  (None, 8, 8, 128)         512       \n",
      " tchNormalization)                                               \n",
      "                                                                 \n",
      " activation_20 (Activation)  (None, 8, 8, 128)         0         \n",
      "                                                                 \n",
      " max_pooling2d_11 (MaxPooli  (None, 4, 4, 128)         0         \n",
      " ng2D)                                                           \n",
      "                                                                 \n",
      " dropout_14 (Dropout)        (None, 4, 4, 128)         0         \n",
      "                                                                 \n",
      " flatten_3 (Flatten)         (None, 2048)              0         \n",
      "                                                                 \n",
      " dense_6 (Dense)             (None, 512)               1049088   \n",
      "                                                                 \n",
      " dropout_15 (Dropout)        (None, 512)               0         \n",
      "                                                                 \n",
      " dense_7 (Dense)             (None, 10)                5130      \n",
      "                                                                 \n",
      "=================================================================\n",
      "Total params: 1343018 (5.12 MB)\n",
      "Trainable params: 1342122 (5.12 MB)\n",
      "Non-trainable params: 896 (3.50 KB)\n",
      "_________________________________________________________________\n"
     ]
    }
   ],
   "source": [
    "# Create model\n",
    "model = Sequential()\n",
    "\n",
    "model.add(Conv2D(32, (3, 3), padding='same', input_shape=(32, 32, 3)))\n",
    "model.add(BatchNormalization())\n",
    "model.add(Activation('relu'))\n",
    "model.add(Conv2D(32, (3, 3), padding='same'))\n",
    "model.add(BatchNormalization())\n",
    "model.add(Activation('relu'))\n",
    "model.add(MaxPooling2D((2, 2)))\n",
    "model.add(Dropout(0.25))\n",
    "\n",
    "model.add(Conv2D(64, (3, 3), padding='same'))\n",
    "model.add(BatchNormalization())\n",
    "model.add(Activation('relu'))\n",
    "model.add(Conv2D(64, (3, 3), padding='same'))\n",
    "model.add(BatchNormalization())\n",
    "model.add(Activation('relu'))\n",
    "model.add(MaxPooling2D((2, 2)))\n",
    "model.add(Dropout(0.25))\n",
    "\n",
    "model.add(Conv2D(128, (3, 3), padding='same'))\n",
    "model.add(BatchNormalization())\n",
    "model.add(Activation('relu'))\n",
    "model.add(Conv2D(128, (3, 3), padding='same'))\n",
    "model.add(BatchNormalization())\n",
    "model.add(Activation('relu'))\n",
    "model.add(MaxPooling2D((2, 2)))\n",
    "model.add(Dropout(0.25))\n",
    "\n",
    "model.add(Flatten())\n",
    "model.add(Dense(512, activation='relu'))\n",
    "model.add(Dropout(0.5))\n",
    "model.add(Dense(10, activation='softmax'))\n",
    "\n",
    "model.summary()"
   ]
  },
  {
   "cell_type": "code",
   "execution_count": 23,
   "metadata": {},
   "outputs": [
    {
     "name": "stderr",
     "output_type": "stream",
     "text": [
      "WARNING:absl:`lr` is deprecated in Keras optimizer, please use `learning_rate` or use the legacy optimizer, e.g.,tf.keras.optimizers.legacy.Adam.\n"
     ]
    }
   ],
   "source": [
    "# Compile model\n",
    "optimizer = Adam(lr=0.001, beta_1=0.9, beta_2=0.999)\n",
    "model.compile(optimizer=optimizer, loss='categorical_crossentropy', metrics=['accuracy'])\n",
    "\n",
    "# Learning Rate Reduction\n",
    "learning_rate_reduction = ReduceLROnPlateau(monitor='val_accuracy', \n",
    "                                            patience=3, \n",
    "                                            verbose=1, \n",
    "                                            factor=0.5, \n",
    "                                            min_lr=0.00001)"
   ]
  },
  {
   "cell_type": "code",
   "execution_count": 17,
   "metadata": {},
   "outputs": [
    {
     "name": "stdout",
     "output_type": "stream",
     "text": [
      "Epoch 1/50\n",
      "625/625 [==============================] - 96s 150ms/step - loss: 1.8311 - accuracy: 0.3366 - val_loss: 857.1834 - val_accuracy: 0.1200 - lr: 0.0010\n",
      "Epoch 2/50\n",
      "625/625 [==============================] - 95s 152ms/step - loss: 1.4945 - accuracy: 0.4551 - val_loss: 562.8972 - val_accuracy: 0.1567 - lr: 0.0010\n",
      "Epoch 3/50\n",
      "625/625 [==============================] - 99s 159ms/step - loss: 1.3259 - accuracy: 0.5223 - val_loss: 615.9886 - val_accuracy: 0.1049 - lr: 0.0010\n",
      "Epoch 4/50\n",
      "625/625 [==============================] - 97s 156ms/step - loss: 1.2048 - accuracy: 0.5740 - val_loss: 341.0070 - val_accuracy: 0.1333 - lr: 0.0010\n",
      "Epoch 5/50\n",
      "625/625 [==============================] - ETA: 0s - loss: 1.1213 - accuracy: 0.6073\n",
      "Epoch 5: ReduceLROnPlateau reducing learning rate to 0.0005000000237487257.\n",
      "625/625 [==============================] - 94s 150ms/step - loss: 1.1213 - accuracy: 0.6073 - val_loss: 379.1577 - val_accuracy: 0.1344 - lr: 0.0010\n",
      "Epoch 6/50\n",
      "625/625 [==============================] - 97s 155ms/step - loss: 0.9978 - accuracy: 0.6531 - val_loss: 237.6071 - val_accuracy: 0.1517 - lr: 5.0000e-04\n",
      "Epoch 7/50\n",
      "625/625 [==============================] - 94s 151ms/step - loss: 0.9601 - accuracy: 0.6639 - val_loss: 174.1246 - val_accuracy: 0.1906 - lr: 5.0000e-04\n",
      "Epoch 8/50\n",
      "625/625 [==============================] - 98s 157ms/step - loss: 0.9225 - accuracy: 0.6795 - val_loss: 197.6238 - val_accuracy: 0.1562 - lr: 5.0000e-04\n",
      "Epoch 9/50\n",
      "625/625 [==============================] - 100s 159ms/step - loss: 0.9021 - accuracy: 0.6871 - val_loss: 253.2245 - val_accuracy: 0.1397 - lr: 5.0000e-04\n",
      "Epoch 10/50\n",
      "625/625 [==============================] - 99s 158ms/step - loss: 0.8663 - accuracy: 0.7016 - val_loss: 89.9519 - val_accuracy: 0.3137 - lr: 5.0000e-04\n",
      "Epoch 11/50\n",
      "625/625 [==============================] - 98s 156ms/step - loss: 0.8510 - accuracy: 0.7089 - val_loss: 55.3054 - val_accuracy: 0.3150 - lr: 5.0000e-04\n",
      "Epoch 12/50\n",
      "625/625 [==============================] - 91s 146ms/step - loss: 0.8259 - accuracy: 0.7174 - val_loss: 62.5825 - val_accuracy: 0.3539 - lr: 5.0000e-04\n",
      "Epoch 13/50\n",
      "625/625 [==============================] - 93s 149ms/step - loss: 0.8023 - accuracy: 0.7254 - val_loss: 217.9763 - val_accuracy: 0.2175 - lr: 5.0000e-04\n",
      "Epoch 14/50\n",
      "625/625 [==============================] - 99s 158ms/step - loss: 0.7796 - accuracy: 0.7350 - val_loss: 75.0287 - val_accuracy: 0.3033 - lr: 5.0000e-04\n",
      "Epoch 15/50\n",
      "625/625 [==============================] - ETA: 0s - loss: 0.7735 - accuracy: 0.7369\n",
      "Epoch 15: ReduceLROnPlateau reducing learning rate to 0.0002500000118743628.\n",
      "625/625 [==============================] - 100s 160ms/step - loss: 0.7735 - accuracy: 0.7369 - val_loss: 54.9217 - val_accuracy: 0.3207 - lr: 5.0000e-04\n",
      "Epoch 16/50\n",
      "625/625 [==============================] - 100s 159ms/step - loss: 0.7186 - accuracy: 0.7556 - val_loss: 77.3444 - val_accuracy: 0.2932 - lr: 2.5000e-04\n",
      "Epoch 17/50\n",
      "625/625 [==============================] - 94s 150ms/step - loss: 0.7105 - accuracy: 0.7603 - val_loss: 63.8642 - val_accuracy: 0.3734 - lr: 2.5000e-04\n",
      "Epoch 18/50\n",
      "625/625 [==============================] - 94s 150ms/step - loss: 0.6974 - accuracy: 0.7628 - val_loss: 94.0139 - val_accuracy: 0.2944 - lr: 2.5000e-04\n",
      "Epoch 19/50\n",
      "625/625 [==============================] - 101s 161ms/step - loss: 0.6889 - accuracy: 0.7649 - val_loss: 111.3650 - val_accuracy: 0.2668 - lr: 2.5000e-04\n",
      "Epoch 20/50\n",
      "625/625 [==============================] - ETA: 0s - loss: 0.6788 - accuracy: 0.7701\n",
      "Epoch 20: ReduceLROnPlateau reducing learning rate to 0.0001250000059371814.\n",
      "625/625 [==============================] - 103s 165ms/step - loss: 0.6788 - accuracy: 0.7701 - val_loss: 64.0735 - val_accuracy: 0.3311 - lr: 2.5000e-04\n",
      "Epoch 21/50\n",
      "625/625 [==============================] - 100s 160ms/step - loss: 0.6525 - accuracy: 0.7783 - val_loss: 74.7272 - val_accuracy: 0.3111 - lr: 1.2500e-04\n",
      "Epoch 22/50\n",
      "625/625 [==============================] - 106s 169ms/step - loss: 0.6495 - accuracy: 0.7800 - val_loss: 76.8617 - val_accuracy: 0.3176 - lr: 1.2500e-04\n",
      "Epoch 23/50\n",
      "625/625 [==============================] - ETA: 0s - loss: 0.6414 - accuracy: 0.7822\n",
      "Epoch 23: ReduceLROnPlateau reducing learning rate to 6.25000029685907e-05.\n",
      "625/625 [==============================] - 101s 161ms/step - loss: 0.6414 - accuracy: 0.7822 - val_loss: 84.7627 - val_accuracy: 0.3167 - lr: 1.2500e-04\n",
      "Epoch 24/50\n",
      "625/625 [==============================] - 103s 165ms/step - loss: 0.6164 - accuracy: 0.7886 - val_loss: 87.9607 - val_accuracy: 0.3079 - lr: 6.2500e-05\n",
      "Epoch 25/50\n",
      "625/625 [==============================] - 94s 151ms/step - loss: 0.6202 - accuracy: 0.7897 - val_loss: 99.1559 - val_accuracy: 0.2926 - lr: 6.2500e-05\n",
      "Epoch 26/50\n",
      "625/625 [==============================] - ETA: 0s - loss: 0.6139 - accuracy: 0.7912\n",
      "Epoch 26: ReduceLROnPlateau reducing learning rate to 3.125000148429535e-05.\n",
      "625/625 [==============================] - 94s 150ms/step - loss: 0.6139 - accuracy: 0.7912 - val_loss: 91.0346 - val_accuracy: 0.3009 - lr: 6.2500e-05\n",
      "Epoch 27/50\n",
      "625/625 [==============================] - 94s 150ms/step - loss: 0.6058 - accuracy: 0.7928 - val_loss: 94.3832 - val_accuracy: 0.2985 - lr: 3.1250e-05\n",
      "Epoch 28/50\n",
      "625/625 [==============================] - 98s 157ms/step - loss: 0.6020 - accuracy: 0.7964 - val_loss: 76.9636 - val_accuracy: 0.3163 - lr: 3.1250e-05\n",
      "Epoch 29/50\n",
      "625/625 [==============================] - ETA: 0s - loss: 0.6071 - accuracy: 0.7940\n",
      "Epoch 29: ReduceLROnPlateau reducing learning rate to 1.5625000742147677e-05.\n",
      "625/625 [==============================] - 97s 155ms/step - loss: 0.6071 - accuracy: 0.7940 - val_loss: 71.7646 - val_accuracy: 0.3306 - lr: 3.1250e-05\n",
      "Epoch 30/50\n",
      "625/625 [==============================] - 94s 151ms/step - loss: 0.6029 - accuracy: 0.7948 - val_loss: 81.5026 - val_accuracy: 0.3227 - lr: 1.5625e-05\n",
      "Epoch 31/50\n",
      "625/625 [==============================] - 94s 151ms/step - loss: 0.6038 - accuracy: 0.7948 - val_loss: 87.5217 - val_accuracy: 0.3164 - lr: 1.5625e-05\n",
      "Epoch 32/50\n",
      "625/625 [==============================] - ETA: 0s - loss: 0.6000 - accuracy: 0.7955\n",
      "Epoch 32: ReduceLROnPlateau reducing learning rate to 1e-05.\n",
      "625/625 [==============================] - 96s 154ms/step - loss: 0.6000 - accuracy: 0.7955 - val_loss: 78.3954 - val_accuracy: 0.3287 - lr: 1.5625e-05\n",
      "Epoch 33/50\n",
      "625/625 [==============================] - 94s 151ms/step - loss: 0.5993 - accuracy: 0.7968 - val_loss: 79.5667 - val_accuracy: 0.3286 - lr: 1.0000e-05\n",
      "Epoch 34/50\n",
      "625/625 [==============================] - 94s 150ms/step - loss: 0.5946 - accuracy: 0.7972 - val_loss: 78.2697 - val_accuracy: 0.3266 - lr: 1.0000e-05\n",
      "Epoch 35/50\n",
      "625/625 [==============================] - 93s 149ms/step - loss: 0.5967 - accuracy: 0.7976 - val_loss: 82.6972 - val_accuracy: 0.3188 - lr: 1.0000e-05\n",
      "Epoch 36/50\n",
      "625/625 [==============================] - 94s 150ms/step - loss: 0.5920 - accuracy: 0.7987 - val_loss: 77.9671 - val_accuracy: 0.3246 - lr: 1.0000e-05\n",
      "Epoch 37/50\n",
      "625/625 [==============================] - 94s 150ms/step - loss: 0.5983 - accuracy: 0.7965 - val_loss: 78.2101 - val_accuracy: 0.3278 - lr: 1.0000e-05\n",
      "Epoch 38/50\n",
      "625/625 [==============================] - 93s 149ms/step - loss: 0.5917 - accuracy: 0.7981 - val_loss: 82.0889 - val_accuracy: 0.3227 - lr: 1.0000e-05\n",
      "Epoch 39/50\n",
      "625/625 [==============================] - 93s 149ms/step - loss: 0.5883 - accuracy: 0.8005 - val_loss: 84.2009 - val_accuracy: 0.3204 - lr: 1.0000e-05\n",
      "Epoch 40/50\n",
      "625/625 [==============================] - 94s 151ms/step - loss: 0.5897 - accuracy: 0.8000 - val_loss: 90.5409 - val_accuracy: 0.3144 - lr: 1.0000e-05\n",
      "Epoch 41/50\n",
      "625/625 [==============================] - 94s 150ms/step - loss: 0.5897 - accuracy: 0.8005 - val_loss: 76.9239 - val_accuracy: 0.3259 - lr: 1.0000e-05\n",
      "Epoch 42/50\n",
      "625/625 [==============================] - 93s 149ms/step - loss: 0.5935 - accuracy: 0.7985 - val_loss: 82.8799 - val_accuracy: 0.3203 - lr: 1.0000e-05\n",
      "Epoch 43/50\n",
      "625/625 [==============================] - 93s 149ms/step - loss: 0.5913 - accuracy: 0.7975 - val_loss: 84.2659 - val_accuracy: 0.3227 - lr: 1.0000e-05\n",
      "Epoch 44/50\n",
      "625/625 [==============================] - 93s 149ms/step - loss: 0.5954 - accuracy: 0.7973 - val_loss: 87.4238 - val_accuracy: 0.3144 - lr: 1.0000e-05\n",
      "Epoch 45/50\n",
      "625/625 [==============================] - 93s 149ms/step - loss: 0.5941 - accuracy: 0.7989 - val_loss: 85.1321 - val_accuracy: 0.3167 - lr: 1.0000e-05\n",
      "Epoch 46/50\n",
      "625/625 [==============================] - 93s 150ms/step - loss: 0.5865 - accuracy: 0.7975 - val_loss: 94.0577 - val_accuracy: 0.3078 - lr: 1.0000e-05\n",
      "Epoch 47/50\n",
      "625/625 [==============================] - 94s 150ms/step - loss: 0.5864 - accuracy: 0.7991 - val_loss: 92.9876 - val_accuracy: 0.3114 - lr: 1.0000e-05\n",
      "Epoch 48/50\n",
      "625/625 [==============================] - 94s 151ms/step - loss: 0.5903 - accuracy: 0.7982 - val_loss: 91.8025 - val_accuracy: 0.3128 - lr: 1.0000e-05\n",
      "Epoch 49/50\n",
      "625/625 [==============================] - 94s 150ms/step - loss: 0.5871 - accuracy: 0.8016 - val_loss: 101.2378 - val_accuracy: 0.3023 - lr: 1.0000e-05\n",
      "Epoch 50/50\n",
      "625/625 [==============================] - 94s 150ms/step - loss: 0.5887 - accuracy: 0.8000 - val_loss: 90.2508 - val_accuracy: 0.3137 - lr: 1.0000e-05\n"
     ]
    }
   ],
   "source": [
    "# Fit the model\n",
    "batch_size = 64\n",
    "epochs = 50\n",
    "history = model.fit(datagen.flow(x_tr, y_tr, batch_size=batch_size),\n",
    "          epochs=epochs,\n",
    "          validation_data=(x_val, y_val),\n",
    "          callbacks=[learning_rate_reduction])"
   ]
  },
  {
   "cell_type": "code",
   "execution_count": 20,
   "metadata": {},
   "outputs": [
    {
     "name": "stdout",
     "output_type": "stream",
     "text": [
      "313/313 [==============================] - 5s 16ms/step - loss: 89.3712 - accuracy: 0.3094\n",
      "loss = 89.37116241455078\n",
      "accuracy = 0.3093999922275543\n"
     ]
    }
   ],
   "source": [
    "loss_and_acc = model.evaluate(x_test, y_test_vec)\n",
    "print('loss = ' + str(loss_and_acc[0]))\n",
    "print('accuracy = ' + str(loss_and_acc[1]))"
   ]
  },
  {
   "cell_type": "markdown",
   "metadata": {},
   "source": [
    "### Final Notes\n",
    "- I was curious to see how increasing the number of epochs, augmenting the data to add variability; and adding a Learning Rate Reduction would influence the model. While testing the model with the training data the model performed a lot better; achieving an accuracy of 0.8. However; clearly this model was overfitted since at epoch 25 the model's accuracy stopped improving. This was seen when the model was tested using the test data; and it only achieved an accuracy of 0.3. Below I will run the same model with only 25 epochs to see if the model performs better."
   ]
  },
  {
   "cell_type": "code",
   "execution_count": 24,
   "metadata": {},
   "outputs": [
    {
     "name": "stdout",
     "output_type": "stream",
     "text": [
      "Epoch 1/25\n",
      "625/625 [==============================] - 106s 167ms/step - loss: 1.8348 - accuracy: 0.3380 - val_loss: 319.5312 - val_accuracy: 0.1758 - lr: 0.0010\n",
      "Epoch 2/25\n",
      "625/625 [==============================] - 102s 162ms/step - loss: 1.4792 - accuracy: 0.4641 - val_loss: 250.9285 - val_accuracy: 0.1665 - lr: 0.0010\n",
      "Epoch 3/25\n",
      "625/625 [==============================] - 106s 169ms/step - loss: 1.3251 - accuracy: 0.5250 - val_loss: 324.6452 - val_accuracy: 0.1516 - lr: 0.0010\n",
      "Epoch 4/25\n",
      "625/625 [==============================] - ETA: 0s - loss: 1.2073 - accuracy: 0.5726\n",
      "Epoch 4: ReduceLROnPlateau reducing learning rate to 0.0005000000237487257.\n",
      "625/625 [==============================] - 97s 156ms/step - loss: 1.2073 - accuracy: 0.5726 - val_loss: 362.2020 - val_accuracy: 0.1406 - lr: 0.0010\n",
      "Epoch 5/25\n",
      "625/625 [==============================] - 103s 164ms/step - loss: 1.0774 - accuracy: 0.6197 - val_loss: 161.1862 - val_accuracy: 0.2567 - lr: 5.0000e-04\n",
      "Epoch 6/25\n",
      "625/625 [==============================] - 113s 181ms/step - loss: 1.0236 - accuracy: 0.6425 - val_loss: 230.8694 - val_accuracy: 0.2128 - lr: 5.0000e-04\n",
      "Epoch 7/25\n",
      "625/625 [==============================] - 132s 211ms/step - loss: 0.9773 - accuracy: 0.6594 - val_loss: 258.2298 - val_accuracy: 0.1755 - lr: 5.0000e-04\n",
      "Epoch 8/25\n",
      "625/625 [==============================] - ETA: 0s - loss: 0.9452 - accuracy: 0.6726\n",
      "Epoch 8: ReduceLROnPlateau reducing learning rate to 0.0002500000118743628.\n",
      "625/625 [==============================] - 128s 205ms/step - loss: 0.9452 - accuracy: 0.6726 - val_loss: 181.2883 - val_accuracy: 0.2027 - lr: 5.0000e-04\n",
      "Epoch 9/25\n",
      "625/625 [==============================] - 126s 202ms/step - loss: 0.8864 - accuracy: 0.6938 - val_loss: 215.2502 - val_accuracy: 0.1724 - lr: 2.5000e-04\n",
      "Epoch 10/25\n",
      "625/625 [==============================] - 128s 204ms/step - loss: 0.8632 - accuracy: 0.7023 - val_loss: 161.4319 - val_accuracy: 0.2131 - lr: 2.5000e-04\n",
      "Epoch 11/25\n",
      "625/625 [==============================] - 121s 194ms/step - loss: 0.8435 - accuracy: 0.7107 - val_loss: 137.0977 - val_accuracy: 0.2589 - lr: 2.5000e-04\n",
      "Epoch 12/25\n",
      "625/625 [==============================] - 99s 158ms/step - loss: 0.8341 - accuracy: 0.7103 - val_loss: 133.6364 - val_accuracy: 0.2625 - lr: 2.5000e-04\n",
      "Epoch 13/25\n",
      "625/625 [==============================] - 102s 164ms/step - loss: 0.8083 - accuracy: 0.7219 - val_loss: 86.2439 - val_accuracy: 0.3420 - lr: 2.5000e-04\n",
      "Epoch 14/25\n",
      "625/625 [==============================] - 102s 163ms/step - loss: 0.7964 - accuracy: 0.7263 - val_loss: 87.5985 - val_accuracy: 0.3462 - lr: 2.5000e-04\n",
      "Epoch 15/25\n",
      "625/625 [==============================] - 102s 163ms/step - loss: 0.7777 - accuracy: 0.7304 - val_loss: 128.4496 - val_accuracy: 0.2703 - lr: 2.5000e-04\n",
      "Epoch 16/25\n",
      "625/625 [==============================] - 99s 159ms/step - loss: 0.7771 - accuracy: 0.7335 - val_loss: 87.8282 - val_accuracy: 0.3235 - lr: 2.5000e-04\n",
      "Epoch 17/25\n",
      "625/625 [==============================] - 101s 161ms/step - loss: 0.7579 - accuracy: 0.7402 - val_loss: 86.3131 - val_accuracy: 0.3737 - lr: 2.5000e-04\n",
      "Epoch 18/25\n",
      "625/625 [==============================] - 103s 165ms/step - loss: 0.7487 - accuracy: 0.7442 - val_loss: 90.3287 - val_accuracy: 0.3099 - lr: 2.5000e-04\n",
      "Epoch 19/25\n",
      "625/625 [==============================] - 124s 199ms/step - loss: 0.7408 - accuracy: 0.7430 - val_loss: 52.6304 - val_accuracy: 0.4213 - lr: 2.5000e-04\n",
      "Epoch 20/25\n",
      "625/625 [==============================] - 143s 229ms/step - loss: 0.7292 - accuracy: 0.7502 - val_loss: 86.0139 - val_accuracy: 0.3623 - lr: 2.5000e-04\n",
      "Epoch 21/25\n",
      "625/625 [==============================] - 137s 219ms/step - loss: 0.7201 - accuracy: 0.7541 - val_loss: 97.8814 - val_accuracy: 0.3252 - lr: 2.5000e-04\n",
      "Epoch 22/25\n",
      "625/625 [==============================] - ETA: 0s - loss: 0.7095 - accuracy: 0.7567\n",
      "Epoch 22: ReduceLROnPlateau reducing learning rate to 0.0001250000059371814.\n",
      "625/625 [==============================] - 142s 228ms/step - loss: 0.7095 - accuracy: 0.7567 - val_loss: 62.0718 - val_accuracy: 0.4190 - lr: 2.5000e-04\n",
      "Epoch 23/25\n",
      "625/625 [==============================] - 138s 220ms/step - loss: 0.6812 - accuracy: 0.7674 - val_loss: 76.5734 - val_accuracy: 0.3699 - lr: 1.2500e-04\n",
      "Epoch 24/25\n",
      "625/625 [==============================] - 133s 213ms/step - loss: 0.6695 - accuracy: 0.7717 - val_loss: 67.4946 - val_accuracy: 0.3929 - lr: 1.2500e-04\n",
      "Epoch 25/25\n",
      "625/625 [==============================] - ETA: 0s - loss: 0.6567 - accuracy: 0.7748\n",
      "Epoch 25: ReduceLROnPlateau reducing learning rate to 6.25000029685907e-05.\n",
      "625/625 [==============================] - 136s 218ms/step - loss: 0.6567 - accuracy: 0.7748 - val_loss: 87.7602 - val_accuracy: 0.3830 - lr: 1.2500e-04\n"
     ]
    }
   ],
   "source": [
    "# Fit the model\n",
    "batch_size = 64\n",
    "epochs = 25\n",
    "history = model.fit(datagen.flow(x_tr, y_tr, batch_size=batch_size),\n",
    "          epochs=epochs,\n",
    "          validation_data=(x_val, y_val),\n",
    "          callbacks=[learning_rate_reduction])"
   ]
  }
 ],
 "metadata": {
  "kernelspec": {
   "display_name": "Python 3 (ipykernel)",
   "language": "python",
   "name": "python3"
  },
  "language_info": {
   "codemirror_mode": {
    "name": "ipython",
    "version": 3
   },
   "file_extension": ".py",
   "mimetype": "text/x-python",
   "name": "python",
   "nbconvert_exporter": "python",
   "pygments_lexer": "ipython3",
   "version": "3.11.4"
  }
 },
 "nbformat": 4,
 "nbformat_minor": 2
}

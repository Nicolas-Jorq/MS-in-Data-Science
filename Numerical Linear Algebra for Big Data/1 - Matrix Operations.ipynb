{
 "cells": [
  {
   "cell_type": "markdown",
   "id": "b63f92f1",
   "metadata": {},
   "source": [
    "# Matrix Operations and Special Matrices"
   ]
  },
  {
   "cell_type": "markdown",
   "id": "3e0f30d6",
   "metadata": {},
   "source": [
    "## 1. **Matrix Operations**\n",
    "\n",
    "Matrix operations form the building blocks of linear algebra and are essential for manipulating data in multidimensional spaces.\n",
    "\n",
    "- **Addition**: Matrices can be added if they have the same dimensions. The sum of two matrices $ A $ and $ B $ is obtained by adding corresponding elements.\n",
    "<h4><center>$\n",
    "  C_{ij} = A_{ij} + B_{ij}\n",
    "  $</center></h4>\n",
    "\n",
    "- **Multiplication**: A matrix $ A $ with dimensions $ m \\times n $ can be multiplied by a matrix $ B $ with dimensions $ n \\times p $. The product $ C = AB $ is a matrix with dimensions $ m \\times p $, where:\n",
    "<h4><center>$\n",
    "  C_{ij} = \\sum_{k=1}^{n} A_{ik} \\cdot B_{kj}\n",
    "$</center></h4>\n",
    "\n",
    "- **Transpose**: The transpose of a matrix $ A $ is obtained by flipping rows and columns. If $ A $ is $ m \\times n $, then $ A^T $ is $ n \\times m $.\n",
    "<h4><center>$\n",
    "  A^T_{ij} = A_{ji}\n",
    "$</center></h4>\n",
    "\n",
    "- **Inverse**: A square matrix $ A $ has an inverse $ A^{-1} $ if it exists, satisfying:\n",
    "<h4><center>$\n",
    "  AA^{-1} = A^{-1}A = I\n",
    "$</center></h4>\n",
    "  where $ I $ is the identity matrix.\n",
    "\n",
    "- **Determinant**: The determinant is a scalar value that encapsulates information about the matrix's scaling and orientation properties. It's essential for solving linear systems."
   ]
  },
  {
   "cell_type": "markdown",
   "id": "f0cfecab",
   "metadata": {},
   "source": [
    "## 2. **Special Matrices**\n",
    "\n",
    "Below I'll explain several significant matrices that appear frequently. Matrices play a vital role in data science due to their ability to represent and manipulate structured data efficiently. They provide a compact and organized way to store information, making complex operations more manageable. They underpin essential mathematical and computational concepts, enabling efficient implementation of various algorithms and methods used in statistical analysis, machine learning, and other data-driven approaches. \n",
    "\n",
    "We'll also explore **NumPy**, \"Numerical Python\". NumPy is a fundamental library in Python for numerical computations. It provides support for working with large, multi-dimensional arrays and matrices, along with a wide range of mathematical functions to operate on these arrays. \n",
    "\n",
    "\n",
    "### Symmetric Matrices\n",
    "A matrix is symmetric if it is equal to its transpose, $ A = A^T $. Symmetric matrices often appear in physics and engineering.\n",
    "\n",
    "***Application:***"
   ]
  },
  {
   "cell_type": "code",
   "execution_count": 1,
   "id": "f367a162",
   "metadata": {},
   "outputs": [
    {
     "data": {
      "text/plain": [
       "(True, array([6., 2.]))"
      ]
     },
     "execution_count": 1,
     "metadata": {},
     "output_type": "execute_result"
    }
   ],
   "source": [
    "import numpy as np\n",
    "\n",
    "# Create a symmetric matrix\n",
    "A_symmetric = np.array([[4, 2], [2, 4]])\n",
    "\n",
    "# Check if the matrix is symmetric\n",
    "is_symmetric = np.allclose(A_symmetric, A_symmetric.T)\n",
    "\n",
    "# Compute eigenvalues\n",
    "eigenvalues = np.linalg.eigvals(A_symmetric)\n",
    "\n",
    "is_symmetric, eigenvalues"
   ]
  },
  {
   "cell_type": "markdown",
   "id": "d5050856",
   "metadata": {},
   "source": [
    "- **Result**: The matrix is symmetric, and its eigenvalues are $[6,2]$.\n",
    "- **Significance:** Symmetric matrices have real eigenvalues, and their eigenvectors are orthogonal. This property can be utilized in vibration analysis, stress analysis, and other engineering applications."
   ]
  },
  {
   "cell_type": "markdown",
   "id": "00ca62ac",
   "metadata": {},
   "source": [
    "### **Covariance Matrices**:\n",
    "Covariance matrices represent the covariance between pairs of features in a dataset. The covariance is a measure of how two random variables change together. If the variables tend to increase and decrease simultaneously, the covariance is positive; if one decreases as the other increases, it is negative.\n",
    "\n",
    "A covariance matrix is symmetric, with the diagonal elements representing the variance of individual features, and the off-diagonal elements representing the covariance between different features.\n",
    "\n",
    "**Importance in Machine Learning / Data Science:**\n",
    "- ***Dimensionality Reduction:*** In PCA, the covariance matrix is used to find the directions (principal components) in which the data varies the most. The eigenvectors of the covariance matrix define these directions.\n",
    "- ***Understanding Relationships:*** Analyzing the covariance matrix helps in understanding the relationships between different features, which can be crucial for feature engineering and model selection.\n",
    "\n",
    "***Application:*** Covariance matrices are used in statistics to understand how different variables change together. Here, we'll compute the covariance matrix for a dataset with two correlated features."
   ]
  },
  {
   "cell_type": "code",
   "execution_count": 2,
   "id": "584f33b0",
   "metadata": {},
   "outputs": [
    {
     "data": {
      "image/png": "[encoded data removed]",
      "text/plain": [
       "<Figure size 640x480 with 1 Axes>"
      ]
     },
     "metadata": {},
     "output_type": "display_data"
    },
    {
     "data": {
      "text/plain": [
       "array([[0.82476989, 1.53138559],\n",
       "       [1.53138559, 3.7359473 ]])"
      ]
     },
     "execution_count": 2,
     "metadata": {},
     "output_type": "execute_result"
    }
   ],
   "source": [
    "import matplotlib.pyplot as plt\n",
    "\n",
    "# Simulate two correlated features\n",
    "np.random.seed(42)\n",
    "X = np.random.randn(100)\n",
    "Y = 2 * X + np.random.randn(100)\n",
    "\n",
    "# Compute the covariance matrix\n",
    "cov_matrix = np.cov(X, Y)\n",
    "\n",
    "# Plot the data\n",
    "plt.scatter(X, Y)\n",
    "plt.xlabel(\"Feature X\")\n",
    "plt.ylabel(\"Feature Y\")\n",
    "plt.title(\"Correlated Features\")\n",
    "plt.show()\n",
    "\n",
    "cov_matrix"
   ]
  },
  {
   "cell_type": "markdown",
   "id": "03c28bbe",
   "metadata": {},
   "source": [
    "**Significance:** The covariance matrix shows the relationship between features X and Y. A high covariance value indicates strong correlation, which can be visualized in the scatter plot. In machine learning, understanding these relationships can help in feature selection and model interpretation.\n",
    "- In ***feature selection***, you're aiming to identify a subset of features that best represents the underlying patterns in your data. High covariance between two features implies that they have a strong linear relationship, meaning they tend to increase or decrease together. If two features are highly correlated, they might be redundant because they're capturing the same information from different angles. \n",
    "    - *Will elaborate further when discussing PCA Analysis and Eigenvalues*"
   ]
  },
  {
   "cell_type": "markdown",
   "id": "6321f605",
   "metadata": {},
   "source": [
    "### **Positive Definite Matrices**:\n",
    "A matrix is positive definite if all its eigenvalues are positive. It ensures stability in numerical solutions.\n",
    "\n",
    "**Importance in Optimization:**\n",
    "- ***Guaranteeing Convexity:*** A matrix being positive definite ensures that the associated quadratic form is convex. A quadratic form $f(x)=x^T Ax$ is convex if the matrix $A$ is positive definite. This means that there are no local minima, only a global minimum.\n",
    "    - *Further elaboration in Optimization Methods Course*\n",
    "- ***Unique Solutions:*** This property aids in finding unique solutions in optimization problems, as there are no ambiguities caused by multiple local minima.\n",
    "\n",
    "**Importance in Machine Learning:** Support Vector Machines (SVM)\n",
    "- In SVM, the goal is to find a hyperplane that best separates the classes in a binary classification problem. \n",
    "- The kernel matrix used in SVM must be positive definite to ensure that the optimization problem is convex. A non-convex problem might lead to multiple solutions, making the learning process unstable and unreliable.\n",
    "\n",
    "***Application:*** Here, we create a positive definite matrix and verify its positive definiteness by checking its eigenvalues uning numpy. "
   ]
  },
  {
   "cell_type": "code",
   "execution_count": 4,
   "id": "42bd41b3",
   "metadata": {},
   "outputs": [
    {
     "data": {
      "text/plain": [
       "True"
      ]
     },
     "execution_count": 4,
     "metadata": {},
     "output_type": "execute_result"
    }
   ],
   "source": [
    "# Create a positive definite matrix\n",
    "A_positive_definite = np.array([[4, 2], [2, 4]])\n",
    "\n",
    "# Compute eigenvalues\n",
    "eigenvalues_positive_definite = np.linalg.eigvals(A_positive_definite)\n",
    "\n",
    "# Check if all eigenvalues are positive\n",
    "is_positive_definite = np.all(eigenvalues_positive_definite > 0)\n",
    "\n",
    "is_positive_definite\n"
   ]
  },
  {
   "cell_type": "markdown",
   "id": "d96aa225",
   "metadata": {},
   "source": [
    "**Significance:** Positive definite matrices guarantee the convexity of the associated quadratic form, leading to unique solutions in optimization problems. They are essential in algorithms like SVM, where a unique solution is required for stable and reliable learning. "
   ]
  },
  {
   "cell_type": "markdown",
   "id": "85468a63",
   "metadata": {},
   "source": [
    "### **Orthonormal Matrices**:\n",
    "Orthonormal matrices have columns that are unit vectors and orthogonal to each other.\n",
    "\n",
    "**Importance:**\n",
    "- ***Preserving Distances and Angles:*** Orthonormal matrices preserve the lengths of vectors and the angles between them. This means that applying an orthonormal transformation to data doesn't distort its geometric properties.\n",
    "- ***Numerical Stability:*** Orthonormal transformations are numerically stable, meaning that they do not amplify numerical errors during computations.\n",
    "\n",
    "**Relevance to Machine Learning:**\n",
    "- ***Data Preprocessing:*** Orthonormal transformations can be used to preprocess data, removing correlations between features without changing the underlying relationships within the data.\n",
    "- ***Solving Linear Systems:*** In algorithms like the Gram-Schmidt process, orthonormal matrices are used to create stable and efficient methods to solve linear systems, which is a common task in machine learning.\n",
    "\n",
    "***Application:***"
   ]
  },
  {
   "cell_type": "code",
   "execution_count": 6,
   "id": "84af0279",
   "metadata": {},
   "outputs": [
    {
     "data": {
      "text/plain": [
       "True"
      ]
     },
     "execution_count": 6,
     "metadata": {},
     "output_type": "execute_result"
    }
   ],
   "source": [
    "# Create an orthonormal matrix\n",
    "Q_orthonormal = np.array([[1/np.sqrt(2), -1/np.sqrt(2)], [1/np.sqrt(2), 1/np.sqrt(2)]])\n",
    "\n",
    "# Check if the matrix is orthonormal\n",
    "is_orthonormal = np.allclose(Q_orthonormal @ Q_orthonormal.T, np.eye(2))\n",
    "\n",
    "is_orthonormal"
   ]
  },
  {
   "cell_type": "markdown",
   "id": "6000cbe6",
   "metadata": {},
   "source": [
    "**Significance:** Orthonormal matrices preserve distances and angles, making them valuable in transformations and rotations. In computer graphics, orthonormal matrices are used to perform rotations without distorting the object's shape."
   ]
  },
  {
   "cell_type": "markdown",
   "id": "d7e76af5",
   "metadata": {},
   "source": [
    "## 3. Eigenvalues and Eigenvectors"
   ]
  }
 ],
 "metadata": {
  "kernelspec": {
   "display_name": "Python 3 (ipykernel)",
   "language": "python",
   "name": "python3"
  },
  "language_info": {
   "codemirror_mode": {
    "name": "ipython",
    "version": 3
   },
   "file_extension": ".py",
   "mimetype": "text/x-python",
   "name": "python",
   "nbconvert_exporter": "python",
   "pygments_lexer": "ipython3",
   "version": "3.11.4"
  }
 },
 "nbformat": 4,
 "nbformat_minor": 5
}
